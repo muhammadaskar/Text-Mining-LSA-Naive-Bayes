{
  "nbformat": 4,
  "nbformat_minor": 0,
  "metadata": {
    "colab": {
      "provenance": [],
      "include_colab_link": true
    },
    "kernelspec": {
      "name": "python3",
      "display_name": "Python 3"
    },
    "language_info": {
      "name": "python"
    }
  },
  "cells": [
    {
      "cell_type": "markdown",
      "metadata": {
        "id": "view-in-github",
        "colab_type": "text"
      },
      "source": [
        "<a href=\"https://colab.research.google.com/github/muhammadaskar/Text-Mining-LSA-Naive-Bayes/blob/main/Project_Kuda.ipynb\" target=\"_parent\"><img src=\"https://colab.research.google.com/assets/colab-badge.svg\" alt=\"Open In Colab\"/></a>"
      ]
    },
    {
      "cell_type": "code",
      "source": [
        "# tweets = [\"Mari kita bersatu melawan COVID-19. Jadilah pahlawan adalah dalam mematuhi protokol kesehatan, penggunaan masker, mencuci tangan, dan menjaga jarak. Bersama kita bisa melalui ini!\",\n",
        "# \"Saling menjaga adalah kunci untuk melawan COVID-19. Mari kita bersama-sama menerapkan physical distancing, menghindari kerumunan, dan tetap tinggal di rumah saat memungkinkan. #LawanCOVID19\",\n",
        "# \"Info COVID-19 terkini: harap diingat bahwa vaksin adalah langkah penting untuk melindungi diri kita dan orang-orang tercinta. Ayo segera daftar vaksinasi dan jadilah bagian dari perubahan yang lebih baik!\",\n",
        "# \"Kita masih dalam situasi pandemi COVID-19, jadi jangan lengah. Tetap patuhi protokol kesehatan, hindari rumor yang menyesatkan, dan peroleh informasi terpercaya dari sumber resmi. Bersama kita bisa atasi ini!\",\n",
        "# \"Mari bahu-membahu menjaga kesehatan kita dan orang lain. Jangan menyepelekan bahaya COVID-19. Tetap pakai masker, jaga jarak, hindari kerumunan, dan terapkan gaya hidup sehat. Bersama, kita kuat!\"]"
      ],
      "metadata": {
        "id": "x94tC3mxHyZ0"
      },
      "execution_count": null,
      "outputs": []
    },
    {
      "cell_type": "code",
      "execution_count": 1,
      "metadata": {
        "id": "Pu9fK3XsDQHy"
      },
      "outputs": [],
      "source": [
        "import pandas as pd"
      ]
    },
    {
      "cell_type": "code",
      "source": [
        "dt = pd.read_excel(\"/content/sample_data/data-latih.xlsx\")\n",
        "dt.head()\n",
        "tweets = dt\n",
        "# print(tweets)\n",
        "tweets.head(10)"
      ],
      "metadata": {
        "id": "TmtFNeWNTeHV",
        "colab": {
          "base_uri": "https://localhost:8080/",
          "height": 363
        },
        "outputId": "1238ae1a-4f12-4c83-d8ba-e2166541d2d0"
      },
      "execution_count": 87,
      "outputs": [
        {
          "output_type": "execute_result",
          "data": {
            "text/plain": [
              "   no                                              Tweet  Kelas\n",
              "0   1  Pembelajaran Tatap Muka Dihentikan 5-7 Hari Ji...      0\n",
              "1   2  “Alhamdulillah, meskipun pernah jatuh dalam te...      1\n",
              "2   3  Jadwal dan Lokasi Vaksin Covid-19 Surabaya Har...      4\n",
              "3   4  Hallo Kawan JM\\n\\nPatuhi protokol kesehatan un...      0\n",
              "4   5  Serda Sutarman Babinsa Kelurahan Lalung Korami...      2\n",
              "5   6  Serda Sutarman Babinsa Kelurahan Lalung Korami...      2\n",
              "6   7  Serda Sutarman Babinsa Kelurahan Lalung Korami...      2\n",
              "7   8  Menjaga kesehatan menjadi tanggung jawab bersa...      0\n",
              "8   9  Serda Sutarman Babinsa Kelurahan Lalung Korami...      2\n",
              "9  10  Catat! Ini Jenis Vaksin Covid-19 Booster Kedua...      0"
            ],
            "text/html": [
              "\n",
              "\n",
              "  <div id=\"df-4c644a9a-e953-4648-8fe7-7d016c3d7d38\">\n",
              "    <div class=\"colab-df-container\">\n",
              "      <div>\n",
              "<style scoped>\n",
              "    .dataframe tbody tr th:only-of-type {\n",
              "        vertical-align: middle;\n",
              "    }\n",
              "\n",
              "    .dataframe tbody tr th {\n",
              "        vertical-align: top;\n",
              "    }\n",
              "\n",
              "    .dataframe thead th {\n",
              "        text-align: right;\n",
              "    }\n",
              "</style>\n",
              "<table border=\"1\" class=\"dataframe\">\n",
              "  <thead>\n",
              "    <tr style=\"text-align: right;\">\n",
              "      <th></th>\n",
              "      <th>no</th>\n",
              "      <th>Tweet</th>\n",
              "      <th>Kelas</th>\n",
              "    </tr>\n",
              "  </thead>\n",
              "  <tbody>\n",
              "    <tr>\n",
              "      <th>0</th>\n",
              "      <td>1</td>\n",
              "      <td>Pembelajaran Tatap Muka Dihentikan 5-7 Hari Ji...</td>\n",
              "      <td>0</td>\n",
              "    </tr>\n",
              "    <tr>\n",
              "      <th>1</th>\n",
              "      <td>2</td>\n",
              "      <td>“Alhamdulillah, meskipun pernah jatuh dalam te...</td>\n",
              "      <td>1</td>\n",
              "    </tr>\n",
              "    <tr>\n",
              "      <th>2</th>\n",
              "      <td>3</td>\n",
              "      <td>Jadwal dan Lokasi Vaksin Covid-19 Surabaya Har...</td>\n",
              "      <td>4</td>\n",
              "    </tr>\n",
              "    <tr>\n",
              "      <th>3</th>\n",
              "      <td>4</td>\n",
              "      <td>Hallo Kawan JM\\n\\nPatuhi protokol kesehatan un...</td>\n",
              "      <td>0</td>\n",
              "    </tr>\n",
              "    <tr>\n",
              "      <th>4</th>\n",
              "      <td>5</td>\n",
              "      <td>Serda Sutarman Babinsa Kelurahan Lalung Korami...</td>\n",
              "      <td>2</td>\n",
              "    </tr>\n",
              "    <tr>\n",
              "      <th>5</th>\n",
              "      <td>6</td>\n",
              "      <td>Serda Sutarman Babinsa Kelurahan Lalung Korami...</td>\n",
              "      <td>2</td>\n",
              "    </tr>\n",
              "    <tr>\n",
              "      <th>6</th>\n",
              "      <td>7</td>\n",
              "      <td>Serda Sutarman Babinsa Kelurahan Lalung Korami...</td>\n",
              "      <td>2</td>\n",
              "    </tr>\n",
              "    <tr>\n",
              "      <th>7</th>\n",
              "      <td>8</td>\n",
              "      <td>Menjaga kesehatan menjadi tanggung jawab bersa...</td>\n",
              "      <td>0</td>\n",
              "    </tr>\n",
              "    <tr>\n",
              "      <th>8</th>\n",
              "      <td>9</td>\n",
              "      <td>Serda Sutarman Babinsa Kelurahan Lalung Korami...</td>\n",
              "      <td>2</td>\n",
              "    </tr>\n",
              "    <tr>\n",
              "      <th>9</th>\n",
              "      <td>10</td>\n",
              "      <td>Catat! Ini Jenis Vaksin Covid-19 Booster Kedua...</td>\n",
              "      <td>0</td>\n",
              "    </tr>\n",
              "  </tbody>\n",
              "</table>\n",
              "</div>\n",
              "      <button class=\"colab-df-convert\" onclick=\"convertToInteractive('df-4c644a9a-e953-4648-8fe7-7d016c3d7d38')\"\n",
              "              title=\"Convert this dataframe to an interactive table.\"\n",
              "              style=\"display:none;\">\n",
              "\n",
              "  <svg xmlns=\"http://www.w3.org/2000/svg\" height=\"24px\"viewBox=\"0 0 24 24\"\n",
              "       width=\"24px\">\n",
              "    <path d=\"M0 0h24v24H0V0z\" fill=\"none\"/>\n",
              "    <path d=\"M18.56 5.44l.94 2.06.94-2.06 2.06-.94-2.06-.94-.94-2.06-.94 2.06-2.06.94zm-11 1L8.5 8.5l.94-2.06 2.06-.94-2.06-.94L8.5 2.5l-.94 2.06-2.06.94zm10 10l.94 2.06.94-2.06 2.06-.94-2.06-.94-.94-2.06-.94 2.06-2.06.94z\"/><path d=\"M17.41 7.96l-1.37-1.37c-.4-.4-.92-.59-1.43-.59-.52 0-1.04.2-1.43.59L10.3 9.45l-7.72 7.72c-.78.78-.78 2.05 0 2.83L4 21.41c.39.39.9.59 1.41.59.51 0 1.02-.2 1.41-.59l7.78-7.78 2.81-2.81c.8-.78.8-2.07 0-2.86zM5.41 20L4 18.59l7.72-7.72 1.47 1.35L5.41 20z\"/>\n",
              "  </svg>\n",
              "      </button>\n",
              "\n",
              "\n",
              "\n",
              "    <div id=\"df-19578ca9-4f71-4e77-9426-344e4ec68cdd\">\n",
              "      <button class=\"colab-df-quickchart\" onclick=\"quickchart('df-19578ca9-4f71-4e77-9426-344e4ec68cdd')\"\n",
              "              title=\"Suggest charts.\"\n",
              "              style=\"display:none;\">\n",
              "\n",
              "<svg xmlns=\"http://www.w3.org/2000/svg\" height=\"24px\"viewBox=\"0 0 24 24\"\n",
              "     width=\"24px\">\n",
              "    <g>\n",
              "        <path d=\"M19 3H5c-1.1 0-2 .9-2 2v14c0 1.1.9 2 2 2h14c1.1 0 2-.9 2-2V5c0-1.1-.9-2-2-2zM9 17H7v-7h2v7zm4 0h-2V7h2v10zm4 0h-2v-4h2v4z\"/>\n",
              "    </g>\n",
              "</svg>\n",
              "      </button>\n",
              "    </div>\n",
              "\n",
              "<style>\n",
              "  .colab-df-quickchart {\n",
              "    background-color: #E8F0FE;\n",
              "    border: none;\n",
              "    border-radius: 50%;\n",
              "    cursor: pointer;\n",
              "    display: none;\n",
              "    fill: #1967D2;\n",
              "    height: 32px;\n",
              "    padding: 0 0 0 0;\n",
              "    width: 32px;\n",
              "  }\n",
              "\n",
              "  .colab-df-quickchart:hover {\n",
              "    background-color: #E2EBFA;\n",
              "    box-shadow: 0px 1px 2px rgba(60, 64, 67, 0.3), 0px 1px 3px 1px rgba(60, 64, 67, 0.15);\n",
              "    fill: #174EA6;\n",
              "  }\n",
              "\n",
              "  [theme=dark] .colab-df-quickchart {\n",
              "    background-color: #3B4455;\n",
              "    fill: #D2E3FC;\n",
              "  }\n",
              "\n",
              "  [theme=dark] .colab-df-quickchart:hover {\n",
              "    background-color: #434B5C;\n",
              "    box-shadow: 0px 1px 3px 1px rgba(0, 0, 0, 0.15);\n",
              "    filter: drop-shadow(0px 1px 2px rgba(0, 0, 0, 0.3));\n",
              "    fill: #FFFFFF;\n",
              "  }\n",
              "</style>\n",
              "\n",
              "    <script>\n",
              "      async function quickchart(key) {\n",
              "        const containerElement = document.querySelector('#' + key);\n",
              "        const charts = await google.colab.kernel.invokeFunction(\n",
              "            'suggestCharts', [key], {});\n",
              "      }\n",
              "    </script>\n",
              "\n",
              "      <script>\n",
              "\n",
              "function displayQuickchartButton(domScope) {\n",
              "  let quickchartButtonEl =\n",
              "    domScope.querySelector('#df-19578ca9-4f71-4e77-9426-344e4ec68cdd button.colab-df-quickchart');\n",
              "  quickchartButtonEl.style.display =\n",
              "    google.colab.kernel.accessAllowed ? 'block' : 'none';\n",
              "}\n",
              "\n",
              "        displayQuickchartButton(document);\n",
              "      </script>\n",
              "      <style>\n",
              "    .colab-df-container {\n",
              "      display:flex;\n",
              "      flex-wrap:wrap;\n",
              "      gap: 12px;\n",
              "    }\n",
              "\n",
              "    .colab-df-convert {\n",
              "      background-color: #E8F0FE;\n",
              "      border: none;\n",
              "      border-radius: 50%;\n",
              "      cursor: pointer;\n",
              "      display: none;\n",
              "      fill: #1967D2;\n",
              "      height: 32px;\n",
              "      padding: 0 0 0 0;\n",
              "      width: 32px;\n",
              "    }\n",
              "\n",
              "    .colab-df-convert:hover {\n",
              "      background-color: #E2EBFA;\n",
              "      box-shadow: 0px 1px 2px rgba(60, 64, 67, 0.3), 0px 1px 3px 1px rgba(60, 64, 67, 0.15);\n",
              "      fill: #174EA6;\n",
              "    }\n",
              "\n",
              "    [theme=dark] .colab-df-convert {\n",
              "      background-color: #3B4455;\n",
              "      fill: #D2E3FC;\n",
              "    }\n",
              "\n",
              "    [theme=dark] .colab-df-convert:hover {\n",
              "      background-color: #434B5C;\n",
              "      box-shadow: 0px 1px 3px 1px rgba(0, 0, 0, 0.15);\n",
              "      filter: drop-shadow(0px 1px 2px rgba(0, 0, 0, 0.3));\n",
              "      fill: #FFFFFF;\n",
              "    }\n",
              "  </style>\n",
              "\n",
              "      <script>\n",
              "        const buttonEl =\n",
              "          document.querySelector('#df-4c644a9a-e953-4648-8fe7-7d016c3d7d38 button.colab-df-convert');\n",
              "        buttonEl.style.display =\n",
              "          google.colab.kernel.accessAllowed ? 'block' : 'none';\n",
              "\n",
              "        async function convertToInteractive(key) {\n",
              "          const element = document.querySelector('#df-4c644a9a-e953-4648-8fe7-7d016c3d7d38');\n",
              "          const dataTable =\n",
              "            await google.colab.kernel.invokeFunction('convertToInteractive',\n",
              "                                                     [key], {});\n",
              "          if (!dataTable) return;\n",
              "\n",
              "          const docLinkHtml = 'Like what you see? Visit the ' +\n",
              "            '<a target=\"_blank\" href=https://colab.research.google.com/notebooks/data_table.ipynb>data table notebook</a>'\n",
              "            + ' to learn more about interactive tables.';\n",
              "          element.innerHTML = '';\n",
              "          dataTable['output_type'] = 'display_data';\n",
              "          await google.colab.output.renderOutput(dataTable, element);\n",
              "          const docLink = document.createElement('div');\n",
              "          docLink.innerHTML = docLinkHtml;\n",
              "          element.appendChild(docLink);\n",
              "        }\n",
              "      </script>\n",
              "    </div>\n",
              "  </div>\n"
            ]
          },
          "metadata": {},
          "execution_count": 87
        }
      ]
    },
    {
      "cell_type": "code",
      "source": [
        "# Case folding\n",
        "lowerTweets = []\n",
        "for t in tweets.Tweet:\n",
        "  lowerTweets.append(t.lower())"
      ],
      "metadata": {
        "id": "uhzET9NpISZ5"
      },
      "execution_count": 54,
      "outputs": []
    },
    {
      "cell_type": "code",
      "source": [
        "# Preprocessing\n",
        "import re\n",
        "\n",
        "lowerTweetsWithoutSpecialChar = []\n",
        "pattern = r'[^a-zA-Z0-9 ]'\n",
        "\n",
        "for t in lowerTweets:\n",
        "  lowerTweetsWithoutSpecialChar.append(re.sub(pattern, '', t))\n",
        "\n",
        "print(lowerTweetsWithoutSpecialChar)"
      ],
      "metadata": {
        "colab": {
          "base_uri": "https://localhost:8080/"
        },
        "id": "yjkD2DivKV2G",
        "outputId": "a0c77fb1-e3b3-49e2-f332-8a5827ddba88"
      },
      "execution_count": 55,
      "outputs": [
        {
          "output_type": "stream",
          "name": "stdout",
          "text": [
            "['pembelajaran tatap muka dihentikan 57 hari jika ada kasus covid19 begini aturan diskresi tersebut  httpstcogxuptepnda', 'alhamdulillah meskipun pernah jatuh dalam tempoh pkp ekoran pandemik covid19 sebelum ini namun ia tidak mematahkan semangat saya untuk mencuba bidang baharu dalam sektor penternakan ini httpstcovidgnmzy9f', 'jadwal dan lokasi vaksin covid19 surabaya hari ini 31 juli2022 httpstco0kcas128ff', 'hallo kawan jmpatuhi protokol kesehatan untuk memutus penyebaran covid19 buat kawan jm yang beraktivitas dimanapun dan kapanpun jangan lupa untuk 6m yayuk bersamasama kita cegah penyebaran covid19 httpstcot23rxugjxr', 'serda sutarman babinsa kelurahan lalung koramil 01karanganyar melaksanakan kegiatan komsos bersama warga serta pengunjung warung mbak sriningsih lingkungan jagan lalung karanganyar babinsa menghimbau untuk selalu menerapkan 5 m guna mencegah penularan virus covid19 httpstco0menznhupu', 'serda sutarman babinsa kelurahan lalung koramil 01karanganyar melaksanakan kegiatan komsos bersama warga serta pengunjung warung mbak sriningsih lingkungan jagan lalung karanganyar babinsa menghimbau untuk selalu menerapkan 5 m guna mencegah penularan virus covid19 httpstcop54pfujavz', 'serda sutarman babinsa kelurahan lalung koramil 01karanganyar melaksanakan kegiatan komsos bersama warga serta pengunjung warung mbak sriningsih lingkungan jagan lalung karanganyar babinsa menghimbau untuk selalu menerapkan 5 m guna mencegah penularan virus covid19 httpstcoq2zh5me4pe', 'menjaga kesehatan menjadi tanggung jawab bersama yuk sayangi diri kamu dan keluargakhofifahipemildardakjatimpemprov jawatimur jatimtanggapcovid19 covid19 coronavirus httpstco0xj5klcwxm', 'serda sutarman babinsa kelurahan lalung koramil 01karanganyar melaksanakan kegiatan komsos bersama warga serta pengunjung warung mbak sriningsih lingkungan jagan lalung karanganyar babinsa menghimbau untuk selalu menerapkan 5 m guna mencegah penularan virus covid19 httpstcohzdx8vk7kk', 'catat ini jenis vaksin covid19 booster kedua httpstcoejqsparc2w', 'covid19 di kalsel bertambah 120 kasus httpstco4pbcmkdzpe', 'patroli kryd malammelaksanakan cipkon dan menghimbau kepada masyarakat untuk mendisiplinkan diri agar tetap menerapkan prokes serta menggunakan masker kemanapun dan apapun aktivitas kitasehingga penanggulangan penyebaran virus covid  19 cepat teratasi di kabbarsel httpstcoays9mohlic', 'presiden amerika serikat as joe biden kembali dinyatakan positif covid19 biden mengatakan dirinya baikbaik saja httpstco7aabkejivr', 'positif covid19 lagi biden kembali jalani isoman  beritaindo httpstco9raehvs1tm', 'anggota polsek sidareja melaksanakan giat ops yustisi masker guna pencegahan covid 19 httpstcosiujfvcwlc', 'anggota polsek sidareja melaksanakan giat ops yustisi masker guna pencegahan covid 19 httpstcojzubp8nrue', 'anggota polsek sidareja melaksanakan giat ops yustisi masker guna pencegahan covid 19 httpstcoxa6tttf05f', 'anggota polsek sidareja melaksanakan giat ops yustisi masker guna pencegahan covid 19 httpstcob7nnoxuloa', 'operasi yustisi perwako 49 tahun 2020 di wilayah hukum polsek galang tentang penanganan disiplin pencegahan covid19yustisipolsekgalangpolrestabarelangpolripresisi httpstcodhgtbc97pr', 'taat jaga prokes diri keluarga dan teman terlindungi dari covid19multimediahumaspoldajatimpolisiindonesiapolisiindonesiadivhumaspolrihumaspoldajatimhumasrestubanpolseksenoripolisi police polisiviral polisijatim polri polripresisi polisiindonesia httpstco6y3cy81kza', 'arnoldpoernomo gw rasa bahkan jauh sebelum program masterchefina segala dikasih keterangan sebelum covid 19 httpstco9butp6gok1', 'bakti  menjaga keselamatan masyarakat   mari bersama berkontribusi mencegah penularan covid19 dengan tetap mematuhi protokol kesehatanserta ikut vaksinasi covid19semangatpresisipolresgorontalo httpstcodnn7jupxdh', 'taat jaga prokes diri keluarga dan teman terlindungi dari covid19multimediahumaspoldajatimpolisiindonesiapolisiindonesiadivhumaspolrihumaspoldajatimhumasrestubanpolseksenoripolisi police polisiviral polisijatim polri polripresisi polisiindonesia httpstcobscabwlhon', 'kes aktif covid19 dalam negara mencatatkan pengurangan sebanyak 1286 kes dengan jumlah terkini 47014 kesawaninews awanipagi malaysiasihathttpstconlttiz8jso', '4271 kes baharu covid19 dicatatkan di malaysia pada 30 julai 2022 httpstconhwemrop6a via youtube', 'dg mengapresiasi seluruh individu yang sejak penanganan covid19 kantor ini tidak pernah shut down jadi kita terus bekerja 24 jam dalam 7 hari bersinergimembangunri httpstcozbmrz64z0c', 'sekolah anakku terpaksa ptm 50 karena ada banyak kasus covid19 di bbrp kelas seminggu sekali rotasi bdrptmwaspada mulai kenceng di jabar', 'cegah penularan covid19 polsek lebakgedong bagikan maskergratis httpstcowwws3ehryu', 'perkembangan terkini kes covid19 di malaysia 1 kes terbaharu 4271 semakin penurunan  2 kes terbaharu di terengganu 17 oh ya dah turun  3 kes sembuh amp pulih sepenuhnya 5553 4 kes kematian ialah lima masih kekal httpstcogolffqfzip', 'piotrwiel covid19 akbar', '18 pasien covid19 di palangka raya sembuh  borneonews httpstcouqn452at2d', 'salah satu upaya ini pun akhirnya menghasilkan kondisi covid19 dan perekonomian nasional yang saat ini semakin membaik bersinergimembangunri httpstcocfhwtf7rxp', 'hallo kawan jmpatuhi protokol kesehatan untuk memutus penyebaran covid19 buat kawan jm yang beraktivitas dimanapun dan kapanpun jangan lupa untuk 6m yayuk bersamasama kita cegah penyebaran covid19 httpstco93b82nzoys', 'kitajagakita covid19 dudukrumah dapatkan akhbar harian metro di kedai berdekatan termasuk di manamana 7eleven berhampiranhttpstcomcvftdnf5s', 'berbagai upaya ini pun akhirnya menghasilkan kondisi covid19 dan perekonomian nasional yang saat ini semakin membaik alhamdulillah sekali bersinergimembangunri httpstco3m12zgtxrq', 'saya mengapresiasi seluruh individu yang sejak penanganan covid19 kantor ini tidak pernah shut down jadi kita terus bekerja 24 jam dalam 7 hari bersinergimembangunri httpstco8vn2xb7juh', 'saya mengapresiasi seluruh individu yang sejak penanganan covid19 kantor ini tidak pernah shut down jadi kita terus bekerja 24 jam dalam 7 hari bersinergimembangunri httpstcoudgtdssko1', 'sebaran kasus covid19 di 34 provinsi indonesia jakartatertinggi httpstcoecdmhrthom', 'sebaran kasus covid19 di 34 provinsi indonesia jakartatertinggi httpstcoiv82r6dvk8', 'terjadi lagi sekolah di kulon progo setop ptm gegara covid19 melonjak  detikcom httpstcoywsocnm9wd', 'sebaran kasus covid19 di 34 provinsi indonesia jakarta tertinggi sindonews bukanberitabiasa httpstcoezoguhgzwf', 'waduh joe biden positif covid19 lagi tapi tak menunjukkan gejala httpstcoj1rvraj0jz httpstcopoh9xmf9ck', 'korea utara mengklaim nihil kasus covid19 baru httpstcofjx34srwxe beritajogja jogja jogjaistimewa httpstco6hcotuavrb', 'top story di sragen sragentina sragenpmi jangan lengah covid belum musnahsabtu 30722 relawan gabungan pemakaman covid19 melaksanakan pemakaman dengan protokol kesehatan jenazah terkonfirmasi covid19 di wila httpstcojj8egs4mif see more httpstconaoccray0t', 'tanmar3m covid 19 penyakit terbanyak dosis vaksinnya dlm jk wkt pendek', 'kegiatan sterilisasi berupa penyemprotan disinfektan di seputaran tempat pelayanan publik polres badung masih tetap rutin dilaksanakan dengan tujuan untuk mencegah dan memutus mata rantai penyebaran covid19 minggu 31072022taatprokescegahcovid19 httpstco1jafdh3p5v', 'joe biden dinyatakan positif covid19 kedua kalinya httpstcorfdn0urcdo', 'hallo kawan jmpatuhi protokol kesehatan untuk memutus penyebaran covid19 buat kawan jm yang beraktivitas dimanapun dan kapanpun jangan lupa untuk 6m yayuk bersamasama kita cegah penyebaran covid19 httpstcos28aycxzbi', 'menemukan  cacar monyet lebih mudah jika dibandingkan covid19 penyakit ini memiliki gejala spesifik  seperti ruam merah pada kulit tangan atau wajah benjolan pada selangkangan hingga lesi atau benjolan kecil berisi cairan di bawah permukaan kulitjokowi lawan pandemi httpstcoq7kejuz4pf', 'cegah penularan covid19 polres klungkung bagi masker gratis di wilayah kab klungkung minggu 3172022 httpstcoqyibcugedp', 'permen karet ace2 berpotensi cegah penularan covidpenelitiankesehatancovid19 httpstcoehertdefa9', 'cukup pakai teh dan jahe cukup 3 bulan korea utara klaim sukses tekan sebaran virus corona hingga nol kasushttpstcodsxtl2kz53koreautara korut beritaterkini beritaterbaru covid19', 'satuan tugas satgas penanganan covid19 mencatat vaksinasi covid19 dosis penguat mencapai sebanyak 55835790 orang di indonesia atau bertambah sebanyak 54649 orang pada sabtu 307 httpstcom9zpoym5ll', 'joe biden bahahaha covidians booster covid19 joebiden toofunny', 'cnnindonesia lahcovid 19', 'jangan lengah covid belum musnahsabtu 30722 relawan gabungan pemakaman covid19 melaksanakan pemakaman dengan protokol kesehatan jenazah terkonfirmasi covid19 di wilayah gondang sragenpmiselalubantu covid19 httpstcosfekmzc26j', 'thesaadkaiser cmshehbaz dengue aya shehbaz nhi dara us ny hr us mareez k sath waada kia tha me dengue k khilaaf jang kru ga tm logo k liye or allah haq janta he kis trha us ny koshish ki or jeetaor wo fitna khan covid19 aya to phir bhaag gya paharo pr kahi mjhy na ho jye awam jye bhaar me', 'joe biden dinyatakan positif covid19 keduakalinya httpstcosy1h86lqvb', 'brainchildguru emerald11279222 kbullocks sfchronicle wuhan lab covid19 monkeypox', 'my hero academia deku va daiki yamashita tests positive for covid19 via httpstcoghjnaaucjb', 'hallo kawan jmpatuhi protokol kesehatan untuk memutus penyebaran covid19 buat kawan jm yang beraktivitas dimanapun dan kapanpun jangan lupa untuk 6m yayuk bersamasama kita cegah penyebaran covid19 httpstcoadgecfizck', 'joe biden dinyatakan positif covid19lagi httpstcovc6wrneqzg', 'nyuma yumuganda pes wintara y iburengerazuba madame uwambajemariya florence na komite nyobozi ya rutsirodistrict baganirije abaturage kuri gahunda zinyuranye zirimoumutekano kwikingiza covid19 musa kwitezimbere habitegekofran1 murekatetetrip1 rwandalocalgov httpstco8tv3vvihbu', 'nyuma yiminsi itatu gusa avuye mu kato nyuma yo kwemeza ko yakize covid19 muzehe mususumizi biden yongere kwandura icyo cyorezomu gihe umwuka wintambara ututumba ku nkombe zuburengero bwinyanja ya pasifika httpstcofrndpqgzpv', 'berikut data kasus covid19 seminggu terakhirhttpstco7qclubrwbr', 'tangerang 30 juli 2022 kami merujuk pada data website covid19 resmi pemerintah kota tangerang berdasarkan data dari dinas kesehatan kota tangerangselengkapnya  httpstcojsgxqshkrxkotatangerangupdatecoronacovid19waspadabolehpanikjangan httpstcoe8alrlqdnh', 'kendalikan covid19 satlantas polres tanjungbalai imbau warga kenakan masker saat keluar rumah httpstcomop4otkomx', 'ppkm berakhir besok 1 agustus begini update covid19 nasional httpstcotdcj0thpcg', 'positif covid19 bertambah 5398 kasus 13 meninggal dunia sindonews bukanberitabiasa httpstcofye9zplhdl', 'agnostikid orcql mistycerest iyaaps daripada positive covid19 soalnya gaguna juga disesali ga bakal ngubah apapaun', 'asean airpollution trending southeastasia polusigedungperkantoran dkijakarta polusiapartemen iqair imf bi ispa kanker covid19 g20 dosapltupln demi apa semua keburukan ini tau gak sih jika keburukan ini bs menyebabkan warga mu jatuh sakit  bener2 gak ada ahlak y httpstcogvlcyruzap', 'ani hmm ye covid19 kya hide amp seak khel rha potus mr biden ke sathgetwellsoonsir ', 'miftahismail chotti bachi ho kia ik jb aya thaa tow covid19 aa gya thaa ap k dor main aisa kch hai smooth period of time milla hai tabaah kr k rkh diya mulk ko ', 'hallo kawan jmpatuhi protokol kesehatan untuk memutus penyebaran covid19 buat kawan jm yang beraktivitas dimanapun dan kapanpun jangan lupa untuk 6m yayuk bersamasama kita cegah penyebaran covid19 httpstco1okhlh2fgf', 'grup idol ini berpotensi positif covid19 tapi maksa tetap syuting isac netizen khawatir idolstarathleticchampionship httpstcos7nz4to4ft httpstcogypqd02nhl', 'para ilmuwan mengungkap fakta baru di balik kemunculan hepatitis misterius dipastikan tak terkait covid19 inikah penyebabnya httpstcoij7ymoj8gz', 'ini adalah laporan nol kasus demam pertama kalinya sejak korut pertama kali mengakui covid19 merebak di sana pada pertengahan mei lalu kumparannews httpstcou9tkt2xe7u', 'i7nnewsrais wa marekani joe biden apatikana na maambukizi ya corona covid19 kwa mara nyengine tena siku tatu 3 baada ya kujitenga akipata matibabu ya  korona ikulu ya marekani white house imesema httpstcouw0wu15smv', 'hallo kawan jmpatuhi protokol kesehatan untuk memutus penyebaran covid19 buat kawan jm yang beraktivitas dimanapun dan kapanpun jangan lupa untuk 6m yayuk bersamasama kita cegah penyebaran covid19 httpstcon2o2xuelw0', 'vaksin covid19 produksi astrazeneca mengeklaim bahwa setelah dosis keempat diberikan akan meningkatkan sekitar 73 persen penerima vaksin dari infeksi varian omicron  sains httpstco5tvtnvk99j', 'rfiha to shin wai haryanzu ba a gama wannan wasan yaranba ni kawai covid19 wasan yara na dauketamu yan nigeria ne ke fama da covid19', 'doktertifa jokowi aniesbaswedan ridwankamil bagaimana dg penebangan pohon di monas lalu rumah dp 0 lantas gimana dg okockelebihan bayar berbagai projek lab covid19 yg katanya sdh dibangun', 'mheshimiwa rais wa melikani yanduye covid19 nyagasani arinde uyu mukambwe  httpstcobgxwmlkqp3', 'abakorerabushake saving group yo muri sectorsovu ngororerodistr bakomeje gahunda yo kwizigama ndetse banagura ihene  yaragijwe umwe mu banyamuryango nyuma yo kwizigama bakomereje mubukangurambaga bwo kwirinda no kurwanya covid19 kubanarichard  rwandayouth gatjmv httpstcozkqvq7jafn', 'ri tambah 5398 positif covid19 kepri sumbang 22 kasus httpstcodbk4jtjvaz', 'ri tambah 5398 positif covid19 kepri sumbang 22 kasus httpstcoaszwqq6wtw', 'byblackangel tegawatisp gwnz0410 gratisterbaik ptkaiindonesia mpraldo stopplandemit vfathun nichosilalah1 nichosilalahi drtedros jokowi kemenkesri pbidi kemenhub151 selamat pagi sesuai  se kemenhub no 72 tahun 2022 amp se satgas covid19 no 21 tahun 2022 yang berlaku mulai tanggal 17 juli calon penumpang yang telah mendapatkan vaksinasi dosis ketiga booster tidak wajib menunjukan hasil negatif tes rtpcrantigen 1', 'data jummlah kematian di asia akibat covid19 hari ini sebanyak169120963', 'asean airpollution trending southeastasia polusigedungperkantoran dkijakarta polusiapartemen iqair imf bi ispa kanker covid19 g20 dosapltupln juara 1 di asia tenggara jakarta pd sabtu 3072022 24 jam udara berpolusi sangat buruk pdhal hari libur nasional ngeri httpstcorzbthyr4wv', 'mendikbudristek mengeluarkan surat edaran panduan penyelenggaraan pembelajaran di masa pandemicovid19 httpstco2yrxo9xzlq', 'data pantauan dan peta sebaran covid19 di kabupaten jember per sabtu 30 juli 2022untuk update informasi covid19 jawa timur bisa mengakses link berikut httpstcoey2zbclefkjatimpemprov atau kunjungi link berikut httpstcohbm4ld3tjb httpstcoe9x0e29imh', 'woooo alibi sedang sakit covid19', 'nulphin tutarejea kwenye kesi ya covid19', 'queserasera8072 nanmanjoi8715 epuliskandar gangster takut covid19', 'meshackluvand10 kodi za ruzuku mlizochukua b60 miaka 15 ziko wapi hata kibanda cha ofisi hamnakodi za posho za ubunge huku mlikuwa mkisusia vikao na maplasta mdomoni ziko wapiukweli hamjawahi kuwa na akili zaidi ya wivu kwq madem wa covid19', 'menkes mengungkapkan wantiwantinya jika suatu hari pandemi seperti covid19 terjadi lagi menurutnya ri kini serba bergantung pada pasokan obat negara lain httpstcouqi35kjxvb', 'tegawatisp gwnz0410 gratisterbaik ptkaiindonesia mpraldo stopplandemit vfathun byblackangel nichosilalah1 nichosilalahi drtedros jokowi kemenkesri pbidi kemenhub151 sesuai  se kemenhub no 72 tahun 2022 amp se satgas covid19 no 21 tahun 2022 yang berlaku mulai tanggal 17 juli calon penumpang ka jarak jauh yang telah mendapatkan vaksin dosis ke 2 wajib menunjukkan surat keterangan hasil negatif tes antigenpcr ya kak1', 'covid19 di kalsel bertambah 120 kasus httpstco29lyxkdza9', 'tambahan kasus covid19 nasional masih di lima ribuan orang httpstcougcomdzp96 httpstco1ewlklziym', 'pandemi covid19 sempat ganggu persiapan tim jelang piala aff u16 httpstcojl0znfwgez']\n"
          ]
        }
      ]
    },
    {
      "cell_type": "code",
      "source": [
        "# Tokenizing namun termasuk kedalam preprocessing juga\n",
        "tokenzing = []\n",
        "\n",
        "for t in lowerTweetsWithoutSpecialChar:\n",
        "  row = t.split()\n",
        "  tokenzing.append(row)\n",
        "\n",
        "print(tokenzing)"
      ],
      "metadata": {
        "colab": {
          "base_uri": "https://localhost:8080/"
        },
        "id": "-fYzDfOmLAsN",
        "outputId": "995f86e3-4db7-41a5-dfe1-8eaf42b26a0e"
      },
      "execution_count": 56,
      "outputs": [
        {
          "output_type": "stream",
          "name": "stdout",
          "text": [
            "[['pembelajaran', 'tatap', 'muka', 'dihentikan', '57', 'hari', 'jika', 'ada', 'kasus', 'covid19', 'begini', 'aturan', 'diskresi', 'tersebut', 'httpstcogxuptepnda'], ['alhamdulillah', 'meskipun', 'pernah', 'jatuh', 'dalam', 'tempoh', 'pkp', 'ekoran', 'pandemik', 'covid19', 'sebelum', 'ini', 'namun', 'ia', 'tidak', 'mematahkan', 'semangat', 'saya', 'untuk', 'mencuba', 'bidang', 'baharu', 'dalam', 'sektor', 'penternakan', 'ini', 'httpstcovidgnmzy9f'], ['jadwal', 'dan', 'lokasi', 'vaksin', 'covid19', 'surabaya', 'hari', 'ini', '31', 'juli2022', 'httpstco0kcas128ff'], ['hallo', 'kawan', 'jmpatuhi', 'protokol', 'kesehatan', 'untuk', 'memutus', 'penyebaran', 'covid19', 'buat', 'kawan', 'jm', 'yang', 'beraktivitas', 'dimanapun', 'dan', 'kapanpun', 'jangan', 'lupa', 'untuk', '6m', 'yayuk', 'bersamasama', 'kita', 'cegah', 'penyebaran', 'covid19', 'httpstcot23rxugjxr'], ['serda', 'sutarman', 'babinsa', 'kelurahan', 'lalung', 'koramil', '01karanganyar', 'melaksanakan', 'kegiatan', 'komsos', 'bersama', 'warga', 'serta', 'pengunjung', 'warung', 'mbak', 'sriningsih', 'lingkungan', 'jagan', 'lalung', 'karanganyar', 'babinsa', 'menghimbau', 'untuk', 'selalu', 'menerapkan', '5', 'm', 'guna', 'mencegah', 'penularan', 'virus', 'covid19', 'httpstco0menznhupu'], ['serda', 'sutarman', 'babinsa', 'kelurahan', 'lalung', 'koramil', '01karanganyar', 'melaksanakan', 'kegiatan', 'komsos', 'bersama', 'warga', 'serta', 'pengunjung', 'warung', 'mbak', 'sriningsih', 'lingkungan', 'jagan', 'lalung', 'karanganyar', 'babinsa', 'menghimbau', 'untuk', 'selalu', 'menerapkan', '5', 'm', 'guna', 'mencegah', 'penularan', 'virus', 'covid19', 'httpstcop54pfujavz'], ['serda', 'sutarman', 'babinsa', 'kelurahan', 'lalung', 'koramil', '01karanganyar', 'melaksanakan', 'kegiatan', 'komsos', 'bersama', 'warga', 'serta', 'pengunjung', 'warung', 'mbak', 'sriningsih', 'lingkungan', 'jagan', 'lalung', 'karanganyar', 'babinsa', 'menghimbau', 'untuk', 'selalu', 'menerapkan', '5', 'm', 'guna', 'mencegah', 'penularan', 'virus', 'covid19', 'httpstcoq2zh5me4pe'], ['menjaga', 'kesehatan', 'menjadi', 'tanggung', 'jawab', 'bersama', 'yuk', 'sayangi', 'diri', 'kamu', 'dan', 'keluargakhofifahipemildardakjatimpemprov', 'jawatimur', 'jatimtanggapcovid19', 'covid19', 'coronavirus', 'httpstco0xj5klcwxm'], ['serda', 'sutarman', 'babinsa', 'kelurahan', 'lalung', 'koramil', '01karanganyar', 'melaksanakan', 'kegiatan', 'komsos', 'bersama', 'warga', 'serta', 'pengunjung', 'warung', 'mbak', 'sriningsih', 'lingkungan', 'jagan', 'lalung', 'karanganyar', 'babinsa', 'menghimbau', 'untuk', 'selalu', 'menerapkan', '5', 'm', 'guna', 'mencegah', 'penularan', 'virus', 'covid19', 'httpstcohzdx8vk7kk'], ['catat', 'ini', 'jenis', 'vaksin', 'covid19', 'booster', 'kedua', 'httpstcoejqsparc2w'], ['covid19', 'di', 'kalsel', 'bertambah', '120', 'kasus', 'httpstco4pbcmkdzpe'], ['patroli', 'kryd', 'malammelaksanakan', 'cipkon', 'dan', 'menghimbau', 'kepada', 'masyarakat', 'untuk', 'mendisiplinkan', 'diri', 'agar', 'tetap', 'menerapkan', 'prokes', 'serta', 'menggunakan', 'masker', 'kemanapun', 'dan', 'apapun', 'aktivitas', 'kitasehingga', 'penanggulangan', 'penyebaran', 'virus', 'covid', '19', 'cepat', 'teratasi', 'di', 'kabbarsel', 'httpstcoays9mohlic'], ['presiden', 'amerika', 'serikat', 'as', 'joe', 'biden', 'kembali', 'dinyatakan', 'positif', 'covid19', 'biden', 'mengatakan', 'dirinya', 'baikbaik', 'saja', 'httpstco7aabkejivr'], ['positif', 'covid19', 'lagi', 'biden', 'kembali', 'jalani', 'isoman', 'beritaindo', 'httpstco9raehvs1tm'], ['anggota', 'polsek', 'sidareja', 'melaksanakan', 'giat', 'ops', 'yustisi', 'masker', 'guna', 'pencegahan', 'covid', '19', 'httpstcosiujfvcwlc'], ['anggota', 'polsek', 'sidareja', 'melaksanakan', 'giat', 'ops', 'yustisi', 'masker', 'guna', 'pencegahan', 'covid', '19', 'httpstcojzubp8nrue'], ['anggota', 'polsek', 'sidareja', 'melaksanakan', 'giat', 'ops', 'yustisi', 'masker', 'guna', 'pencegahan', 'covid', '19', 'httpstcoxa6tttf05f'], ['anggota', 'polsek', 'sidareja', 'melaksanakan', 'giat', 'ops', 'yustisi', 'masker', 'guna', 'pencegahan', 'covid', '19', 'httpstcob7nnoxuloa'], ['operasi', 'yustisi', 'perwako', '49', 'tahun', '2020', 'di', 'wilayah', 'hukum', 'polsek', 'galang', 'tentang', 'penanganan', 'disiplin', 'pencegahan', 'covid19yustisipolsekgalangpolrestabarelangpolripresisi', 'httpstcodhgtbc97pr'], ['taat', 'jaga', 'prokes', 'diri', 'keluarga', 'dan', 'teman', 'terlindungi', 'dari', 'covid19multimediahumaspoldajatimpolisiindonesiapolisiindonesiadivhumaspolrihumaspoldajatimhumasrestubanpolseksenoripolisi', 'police', 'polisiviral', 'polisijatim', 'polri', 'polripresisi', 'polisiindonesia', 'httpstco6y3cy81kza'], ['arnoldpoernomo', 'gw', 'rasa', 'bahkan', 'jauh', 'sebelum', 'program', 'masterchefina', 'segala', 'dikasih', 'keterangan', 'sebelum', 'covid', '19', 'httpstco9butp6gok1'], ['bakti', 'menjaga', 'keselamatan', 'masyarakat', 'mari', 'bersama', 'berkontribusi', 'mencegah', 'penularan', 'covid19', 'dengan', 'tetap', 'mematuhi', 'protokol', 'kesehatanserta', 'ikut', 'vaksinasi', 'covid19semangatpresisipolresgorontalo', 'httpstcodnn7jupxdh'], ['taat', 'jaga', 'prokes', 'diri', 'keluarga', 'dan', 'teman', 'terlindungi', 'dari', 'covid19multimediahumaspoldajatimpolisiindonesiapolisiindonesiadivhumaspolrihumaspoldajatimhumasrestubanpolseksenoripolisi', 'police', 'polisiviral', 'polisijatim', 'polri', 'polripresisi', 'polisiindonesia', 'httpstcobscabwlhon'], ['kes', 'aktif', 'covid19', 'dalam', 'negara', 'mencatatkan', 'pengurangan', 'sebanyak', '1286', 'kes', 'dengan', 'jumlah', 'terkini', '47014', 'kesawaninews', 'awanipagi', 'malaysiasihathttpstconlttiz8jso'], ['4271', 'kes', 'baharu', 'covid19', 'dicatatkan', 'di', 'malaysia', 'pada', '30', 'julai', '2022', 'httpstconhwemrop6a', 'via', 'youtube'], ['dg', 'mengapresiasi', 'seluruh', 'individu', 'yang', 'sejak', 'penanganan', 'covid19', 'kantor', 'ini', 'tidak', 'pernah', 'shut', 'down', 'jadi', 'kita', 'terus', 'bekerja', '24', 'jam', 'dalam', '7', 'hari', 'bersinergimembangunri', 'httpstcozbmrz64z0c'], ['sekolah', 'anakku', 'terpaksa', 'ptm', '50', 'karena', 'ada', 'banyak', 'kasus', 'covid19', 'di', 'bbrp', 'kelas', 'seminggu', 'sekali', 'rotasi', 'bdrptmwaspada', 'mulai', 'kenceng', 'di', 'jabar'], ['cegah', 'penularan', 'covid19', 'polsek', 'lebakgedong', 'bagikan', 'maskergratis', 'httpstcowwws3ehryu'], ['perkembangan', 'terkini', 'kes', 'covid19', 'di', 'malaysia', '1', 'kes', 'terbaharu', '4271', 'semakin', 'penurunan', '2', 'kes', 'terbaharu', 'di', 'terengganu', '17', 'oh', 'ya', 'dah', 'turun', '3', 'kes', 'sembuh', 'amp', 'pulih', 'sepenuhnya', '5553', '4', 'kes', 'kematian', 'ialah', 'lima', 'masih', 'kekal', 'httpstcogolffqfzip'], ['piotrwiel', 'covid19', 'akbar'], ['18', 'pasien', 'covid19', 'di', 'palangka', 'raya', 'sembuh', 'borneonews', 'httpstcouqn452at2d'], ['salah', 'satu', 'upaya', 'ini', 'pun', 'akhirnya', 'menghasilkan', 'kondisi', 'covid19', 'dan', 'perekonomian', 'nasional', 'yang', 'saat', 'ini', 'semakin', 'membaik', 'bersinergimembangunri', 'httpstcocfhwtf7rxp'], ['hallo', 'kawan', 'jmpatuhi', 'protokol', 'kesehatan', 'untuk', 'memutus', 'penyebaran', 'covid19', 'buat', 'kawan', 'jm', 'yang', 'beraktivitas', 'dimanapun', 'dan', 'kapanpun', 'jangan', 'lupa', 'untuk', '6m', 'yayuk', 'bersamasama', 'kita', 'cegah', 'penyebaran', 'covid19', 'httpstco93b82nzoys'], ['kitajagakita', 'covid19', 'dudukrumah', 'dapatkan', 'akhbar', 'harian', 'metro', 'di', 'kedai', 'berdekatan', 'termasuk', 'di', 'manamana', '7eleven', 'berhampiranhttpstcomcvftdnf5s'], ['berbagai', 'upaya', 'ini', 'pun', 'akhirnya', 'menghasilkan', 'kondisi', 'covid19', 'dan', 'perekonomian', 'nasional', 'yang', 'saat', 'ini', 'semakin', 'membaik', 'alhamdulillah', 'sekali', 'bersinergimembangunri', 'httpstco3m12zgtxrq'], ['saya', 'mengapresiasi', 'seluruh', 'individu', 'yang', 'sejak', 'penanganan', 'covid19', 'kantor', 'ini', 'tidak', 'pernah', 'shut', 'down', 'jadi', 'kita', 'terus', 'bekerja', '24', 'jam', 'dalam', '7', 'hari', 'bersinergimembangunri', 'httpstco8vn2xb7juh'], ['saya', 'mengapresiasi', 'seluruh', 'individu', 'yang', 'sejak', 'penanganan', 'covid19', 'kantor', 'ini', 'tidak', 'pernah', 'shut', 'down', 'jadi', 'kita', 'terus', 'bekerja', '24', 'jam', 'dalam', '7', 'hari', 'bersinergimembangunri', 'httpstcoudgtdssko1'], ['sebaran', 'kasus', 'covid19', 'di', '34', 'provinsi', 'indonesia', 'jakartatertinggi', 'httpstcoecdmhrthom'], ['sebaran', 'kasus', 'covid19', 'di', '34', 'provinsi', 'indonesia', 'jakartatertinggi', 'httpstcoiv82r6dvk8'], ['terjadi', 'lagi', 'sekolah', 'di', 'kulon', 'progo', 'setop', 'ptm', 'gegara', 'covid19', 'melonjak', 'detikcom', 'httpstcoywsocnm9wd'], ['sebaran', 'kasus', 'covid19', 'di', '34', 'provinsi', 'indonesia', 'jakarta', 'tertinggi', 'sindonews', 'bukanberitabiasa', 'httpstcoezoguhgzwf'], ['waduh', 'joe', 'biden', 'positif', 'covid19', 'lagi', 'tapi', 'tak', 'menunjukkan', 'gejala', 'httpstcoj1rvraj0jz', 'httpstcopoh9xmf9ck'], ['korea', 'utara', 'mengklaim', 'nihil', 'kasus', 'covid19', 'baru', 'httpstcofjx34srwxe', 'beritajogja', 'jogja', 'jogjaistimewa', 'httpstco6hcotuavrb'], ['top', 'story', 'di', 'sragen', 'sragentina', 'sragenpmi', 'jangan', 'lengah', 'covid', 'belum', 'musnahsabtu', '30722', 'relawan', 'gabungan', 'pemakaman', 'covid19', 'melaksanakan', 'pemakaman', 'dengan', 'protokol', 'kesehatan', 'jenazah', 'terkonfirmasi', 'covid19', 'di', 'wila', 'httpstcojj8egs4mif', 'see', 'more', 'httpstconaoccray0t'], ['tanmar3m', 'covid', '19', 'penyakit', 'terbanyak', 'dosis', 'vaksinnya', 'dlm', 'jk', 'wkt', 'pendek'], ['kegiatan', 'sterilisasi', 'berupa', 'penyemprotan', 'disinfektan', 'di', 'seputaran', 'tempat', 'pelayanan', 'publik', 'polres', 'badung', 'masih', 'tetap', 'rutin', 'dilaksanakan', 'dengan', 'tujuan', 'untuk', 'mencegah', 'dan', 'memutus', 'mata', 'rantai', 'penyebaran', 'covid19', 'minggu', '31072022taatprokescegahcovid19', 'httpstco1jafdh3p5v'], ['joe', 'biden', 'dinyatakan', 'positif', 'covid19', 'kedua', 'kalinya', 'httpstcorfdn0urcdo'], ['hallo', 'kawan', 'jmpatuhi', 'protokol', 'kesehatan', 'untuk', 'memutus', 'penyebaran', 'covid19', 'buat', 'kawan', 'jm', 'yang', 'beraktivitas', 'dimanapun', 'dan', 'kapanpun', 'jangan', 'lupa', 'untuk', '6m', 'yayuk', 'bersamasama', 'kita', 'cegah', 'penyebaran', 'covid19', 'httpstcos28aycxzbi'], ['menemukan', 'cacar', 'monyet', 'lebih', 'mudah', 'jika', 'dibandingkan', 'covid19', 'penyakit', 'ini', 'memiliki', 'gejala', 'spesifik', 'seperti', 'ruam', 'merah', 'pada', 'kulit', 'tangan', 'atau', 'wajah', 'benjolan', 'pada', 'selangkangan', 'hingga', 'lesi', 'atau', 'benjolan', 'kecil', 'berisi', 'cairan', 'di', 'bawah', 'permukaan', 'kulitjokowi', 'lawan', 'pandemi', 'httpstcoq7kejuz4pf'], ['cegah', 'penularan', 'covid19', 'polres', 'klungkung', 'bagi', 'masker', 'gratis', 'di', 'wilayah', 'kab', 'klungkung', 'minggu', '3172022', 'httpstcoqyibcugedp'], ['permen', 'karet', 'ace2', 'berpotensi', 'cegah', 'penularan', 'covidpenelitiankesehatancovid19', 'httpstcoehertdefa9'], ['cukup', 'pakai', 'teh', 'dan', 'jahe', 'cukup', '3', 'bulan', 'korea', 'utara', 'klaim', 'sukses', 'tekan', 'sebaran', 'virus', 'corona', 'hingga', 'nol', 'kasushttpstcodsxtl2kz53koreautara', 'korut', 'beritaterkini', 'beritaterbaru', 'covid19'], ['satuan', 'tugas', 'satgas', 'penanganan', 'covid19', 'mencatat', 'vaksinasi', 'covid19', 'dosis', 'penguat', 'mencapai', 'sebanyak', '55835790', 'orang', 'di', 'indonesia', 'atau', 'bertambah', 'sebanyak', '54649', 'orang', 'pada', 'sabtu', '307', 'httpstcom9zpoym5ll'], ['joe', 'biden', 'bahahaha', 'covidians', 'booster', 'covid19', 'joebiden', 'toofunny'], ['cnnindonesia', 'lahcovid', '19'], ['jangan', 'lengah', 'covid', 'belum', 'musnahsabtu', '30722', 'relawan', 'gabungan', 'pemakaman', 'covid19', 'melaksanakan', 'pemakaman', 'dengan', 'protokol', 'kesehatan', 'jenazah', 'terkonfirmasi', 'covid19', 'di', 'wilayah', 'gondang', 'sragenpmiselalubantu', 'covid19', 'httpstcosfekmzc26j'], ['thesaadkaiser', 'cmshehbaz', 'dengue', 'aya', 'shehbaz', 'nhi', 'dara', 'us', 'ny', 'hr', 'us', 'mareez', 'k', 'sath', 'waada', 'kia', 'tha', 'me', 'dengue', 'k', 'khilaaf', 'jang', 'kru', 'ga', 'tm', 'logo', 'k', 'liye', 'or', 'allah', 'haq', 'janta', 'he', 'kis', 'trha', 'us', 'ny', 'koshish', 'ki', 'or', 'jeetaor', 'wo', 'fitna', 'khan', 'covid19', 'aya', 'to', 'phir', 'bhaag', 'gya', 'paharo', 'pr', 'kahi', 'mjhy', 'na', 'ho', 'jye', 'awam', 'jye', 'bhaar', 'me'], ['joe', 'biden', 'dinyatakan', 'positif', 'covid19', 'keduakalinya', 'httpstcosy1h86lqvb'], ['brainchildguru', 'emerald11279222', 'kbullocks', 'sfchronicle', 'wuhan', 'lab', 'covid19', 'monkeypox'], ['my', 'hero', 'academia', 'deku', 'va', 'daiki', 'yamashita', 'tests', 'positive', 'for', 'covid19', 'via', 'httpstcoghjnaaucjb'], ['hallo', 'kawan', 'jmpatuhi', 'protokol', 'kesehatan', 'untuk', 'memutus', 'penyebaran', 'covid19', 'buat', 'kawan', 'jm', 'yang', 'beraktivitas', 'dimanapun', 'dan', 'kapanpun', 'jangan', 'lupa', 'untuk', '6m', 'yayuk', 'bersamasama', 'kita', 'cegah', 'penyebaran', 'covid19', 'httpstcoadgecfizck'], ['joe', 'biden', 'dinyatakan', 'positif', 'covid19lagi', 'httpstcovc6wrneqzg'], ['nyuma', 'yumuganda', 'pes', 'wintara', 'y', 'iburengerazuba', 'madame', 'uwambajemariya', 'florence', 'na', 'komite', 'nyobozi', 'ya', 'rutsirodistrict', 'baganirije', 'abaturage', 'kuri', 'gahunda', 'zinyuranye', 'zirimoumutekano', 'kwikingiza', 'covid19', 'musa', 'kwitezimbere', 'habitegekofran1', 'murekatetetrip1', 'rwandalocalgov', 'httpstco8tv3vvihbu'], ['nyuma', 'yiminsi', 'itatu', 'gusa', 'avuye', 'mu', 'kato', 'nyuma', 'yo', 'kwemeza', 'ko', 'yakize', 'covid19', 'muzehe', 'mususumizi', 'biden', 'yongere', 'kwandura', 'icyo', 'cyorezomu', 'gihe', 'umwuka', 'wintambara', 'ututumba', 'ku', 'nkombe', 'zuburengero', 'bwinyanja', 'ya', 'pasifika', 'httpstcofrndpqgzpv'], ['berikut', 'data', 'kasus', 'covid19', 'seminggu', 'terakhirhttpstco7qclubrwbr'], ['tangerang', '30', 'juli', '2022', 'kami', 'merujuk', 'pada', 'data', 'website', 'covid19', 'resmi', 'pemerintah', 'kota', 'tangerang', 'berdasarkan', 'data', 'dari', 'dinas', 'kesehatan', 'kota', 'tangerangselengkapnya', 'httpstcojsgxqshkrxkotatangerangupdatecoronacovid19waspadabolehpanikjangan', 'httpstcoe8alrlqdnh'], ['kendalikan', 'covid19', 'satlantas', 'polres', 'tanjungbalai', 'imbau', 'warga', 'kenakan', 'masker', 'saat', 'keluar', 'rumah', 'httpstcomop4otkomx'], ['ppkm', 'berakhir', 'besok', '1', 'agustus', 'begini', 'update', 'covid19', 'nasional', 'httpstcotdcj0thpcg'], ['positif', 'covid19', 'bertambah', '5398', 'kasus', '13', 'meninggal', 'dunia', 'sindonews', 'bukanberitabiasa', 'httpstcofye9zplhdl'], ['agnostikid', 'orcql', 'mistycerest', 'iyaaps', 'daripada', 'positive', 'covid19', 'soalnya', 'gaguna', 'juga', 'disesali', 'ga', 'bakal', 'ngubah', 'apapaun'], ['asean', 'airpollution', 'trending', 'southeastasia', 'polusigedungperkantoran', 'dkijakarta', 'polusiapartemen', 'iqair', 'imf', 'bi', 'ispa', 'kanker', 'covid19', 'g20', 'dosapltupln', 'demi', 'apa', 'semua', 'keburukan', 'ini', 'tau', 'gak', 'sih', 'jika', 'keburukan', 'ini', 'bs', 'menyebabkan', 'warga', 'mu', 'jatuh', 'sakit', 'bener2', 'gak', 'ada', 'ahlak', 'y', 'httpstcogvlcyruzap'], ['ani', 'hmm', 'ye', 'covid19', 'kya', 'hide', 'amp', 'seak', 'khel', 'rha', 'potus', 'mr', 'biden', 'ke', 'sathgetwellsoonsir'], ['miftahismail', 'chotti', 'bachi', 'ho', 'kia', 'ik', 'jb', 'aya', 'thaa', 'tow', 'covid19', 'aa', 'gya', 'thaa', 'ap', 'k', 'dor', 'main', 'aisa', 'kch', 'hai', 'smooth', 'period', 'of', 'time', 'milla', 'hai', 'tabaah', 'kr', 'k', 'rkh', 'diya', 'mulk', 'ko'], ['hallo', 'kawan', 'jmpatuhi', 'protokol', 'kesehatan', 'untuk', 'memutus', 'penyebaran', 'covid19', 'buat', 'kawan', 'jm', 'yang', 'beraktivitas', 'dimanapun', 'dan', 'kapanpun', 'jangan', 'lupa', 'untuk', '6m', 'yayuk', 'bersamasama', 'kita', 'cegah', 'penyebaran', 'covid19', 'httpstco1okhlh2fgf'], ['grup', 'idol', 'ini', 'berpotensi', 'positif', 'covid19', 'tapi', 'maksa', 'tetap', 'syuting', 'isac', 'netizen', 'khawatir', 'idolstarathleticchampionship', 'httpstcos7nz4to4ft', 'httpstcogypqd02nhl'], ['para', 'ilmuwan', 'mengungkap', 'fakta', 'baru', 'di', 'balik', 'kemunculan', 'hepatitis', 'misterius', 'dipastikan', 'tak', 'terkait', 'covid19', 'inikah', 'penyebabnya', 'httpstcoij7ymoj8gz'], ['ini', 'adalah', 'laporan', 'nol', 'kasus', 'demam', 'pertama', 'kalinya', 'sejak', 'korut', 'pertama', 'kali', 'mengakui', 'covid19', 'merebak', 'di', 'sana', 'pada', 'pertengahan', 'mei', 'lalu', 'kumparannews', 'httpstcou9tkt2xe7u'], ['i7nnewsrais', 'wa', 'marekani', 'joe', 'biden', 'apatikana', 'na', 'maambukizi', 'ya', 'corona', 'covid19', 'kwa', 'mara', 'nyengine', 'tena', 'siku', 'tatu', '3', 'baada', 'ya', 'kujitenga', 'akipata', 'matibabu', 'ya', 'korona', 'ikulu', 'ya', 'marekani', 'white', 'house', 'imesema', 'httpstcouw0wu15smv'], ['hallo', 'kawan', 'jmpatuhi', 'protokol', 'kesehatan', 'untuk', 'memutus', 'penyebaran', 'covid19', 'buat', 'kawan', 'jm', 'yang', 'beraktivitas', 'dimanapun', 'dan', 'kapanpun', 'jangan', 'lupa', 'untuk', '6m', 'yayuk', 'bersamasama', 'kita', 'cegah', 'penyebaran', 'covid19', 'httpstcon2o2xuelw0'], ['vaksin', 'covid19', 'produksi', 'astrazeneca', 'mengeklaim', 'bahwa', 'setelah', 'dosis', 'keempat', 'diberikan', 'akan', 'meningkatkan', 'sekitar', '73', 'persen', 'penerima', 'vaksin', 'dari', 'infeksi', 'varian', 'omicron', 'sains', 'httpstco5tvtnvk99j'], ['rfiha', 'to', 'shin', 'wai', 'haryanzu', 'ba', 'a', 'gama', 'wannan', 'wasan', 'yaranba', 'ni', 'kawai', 'covid19', 'wasan', 'yara', 'na', 'dauketamu', 'yan', 'nigeria', 'ne', 'ke', 'fama', 'da', 'covid19'], ['doktertifa', 'jokowi', 'aniesbaswedan', 'ridwankamil', 'bagaimana', 'dg', 'penebangan', 'pohon', 'di', 'monas', 'lalu', 'rumah', 'dp', '0', 'lantas', 'gimana', 'dg', 'okockelebihan', 'bayar', 'berbagai', 'projek', 'lab', 'covid19', 'yg', 'katanya', 'sdh', 'dibangun'], ['mheshimiwa', 'rais', 'wa', 'melikani', 'yanduye', 'covid19', 'nyagasani', 'arinde', 'uyu', 'mukambwe', 'httpstcobgxwmlkqp3'], ['abakorerabushake', 'saving', 'group', 'yo', 'muri', 'sectorsovu', 'ngororerodistr', 'bakomeje', 'gahunda', 'yo', 'kwizigama', 'ndetse', 'banagura', 'ihene', 'yaragijwe', 'umwe', 'mu', 'banyamuryango', 'nyuma', 'yo', 'kwizigama', 'bakomereje', 'mubukangurambaga', 'bwo', 'kwirinda', 'no', 'kurwanya', 'covid19', 'kubanarichard', 'rwandayouth', 'gatjmv', 'httpstcozkqvq7jafn'], ['ri', 'tambah', '5398', 'positif', 'covid19', 'kepri', 'sumbang', '22', 'kasus', 'httpstcodbk4jtjvaz'], ['ri', 'tambah', '5398', 'positif', 'covid19', 'kepri', 'sumbang', '22', 'kasus', 'httpstcoaszwqq6wtw'], ['byblackangel', 'tegawatisp', 'gwnz0410', 'gratisterbaik', 'ptkaiindonesia', 'mpraldo', 'stopplandemit', 'vfathun', 'nichosilalah1', 'nichosilalahi', 'drtedros', 'jokowi', 'kemenkesri', 'pbidi', 'kemenhub151', 'selamat', 'pagi', 'sesuai', 'se', 'kemenhub', 'no', '72', 'tahun', '2022', 'amp', 'se', 'satgas', 'covid19', 'no', '21', 'tahun', '2022', 'yang', 'berlaku', 'mulai', 'tanggal', '17', 'juli', 'calon', 'penumpang', 'yang', 'telah', 'mendapatkan', 'vaksinasi', 'dosis', 'ketiga', 'booster', 'tidak', 'wajib', 'menunjukan', 'hasil', 'negatif', 'tes', 'rtpcrantigen', '1'], ['data', 'jummlah', 'kematian', 'di', 'asia', 'akibat', 'covid19', 'hari', 'ini', 'sebanyak169120963'], ['asean', 'airpollution', 'trending', 'southeastasia', 'polusigedungperkantoran', 'dkijakarta', 'polusiapartemen', 'iqair', 'imf', 'bi', 'ispa', 'kanker', 'covid19', 'g20', 'dosapltupln', 'juara', '1', 'di', 'asia', 'tenggara', 'jakarta', 'pd', 'sabtu', '3072022', '24', 'jam', 'udara', 'berpolusi', 'sangat', 'buruk', 'pdhal', 'hari', 'libur', 'nasional', 'ngeri', 'httpstcorzbthyr4wv'], ['mendikbudristek', 'mengeluarkan', 'surat', 'edaran', 'panduan', 'penyelenggaraan', 'pembelajaran', 'di', 'masa', 'pandemicovid19', 'httpstco2yrxo9xzlq'], ['data', 'pantauan', 'dan', 'peta', 'sebaran', 'covid19', 'di', 'kabupaten', 'jember', 'per', 'sabtu', '30', 'juli', '2022untuk', 'update', 'informasi', 'covid19', 'jawa', 'timur', 'bisa', 'mengakses', 'link', 'berikut', 'httpstcoey2zbclefkjatimpemprov', 'atau', 'kunjungi', 'link', 'berikut', 'httpstcohbm4ld3tjb', 'httpstcoe9x0e29imh'], ['woooo', 'alibi', 'sedang', 'sakit', 'covid19'], ['nulphin', 'tutarejea', 'kwenye', 'kesi', 'ya', 'covid19'], ['queserasera8072', 'nanmanjoi8715', 'epuliskandar', 'gangster', 'takut', 'covid19'], ['meshackluvand10', 'kodi', 'za', 'ruzuku', 'mlizochukua', 'b60', 'miaka', '15', 'ziko', 'wapi', 'hata', 'kibanda', 'cha', 'ofisi', 'hamnakodi', 'za', 'posho', 'za', 'ubunge', 'huku', 'mlikuwa', 'mkisusia', 'vikao', 'na', 'maplasta', 'mdomoni', 'ziko', 'wapiukweli', 'hamjawahi', 'kuwa', 'na', 'akili', 'zaidi', 'ya', 'wivu', 'kwq', 'madem', 'wa', 'covid19'], ['menkes', 'mengungkapkan', 'wantiwantinya', 'jika', 'suatu', 'hari', 'pandemi', 'seperti', 'covid19', 'terjadi', 'lagi', 'menurutnya', 'ri', 'kini', 'serba', 'bergantung', 'pada', 'pasokan', 'obat', 'negara', 'lain', 'httpstcouqi35kjxvb'], ['tegawatisp', 'gwnz0410', 'gratisterbaik', 'ptkaiindonesia', 'mpraldo', 'stopplandemit', 'vfathun', 'byblackangel', 'nichosilalah1', 'nichosilalahi', 'drtedros', 'jokowi', 'kemenkesri', 'pbidi', 'kemenhub151', 'sesuai', 'se', 'kemenhub', 'no', '72', 'tahun', '2022', 'amp', 'se', 'satgas', 'covid19', 'no', '21', 'tahun', '2022', 'yang', 'berlaku', 'mulai', 'tanggal', '17', 'juli', 'calon', 'penumpang', 'ka', 'jarak', 'jauh', 'yang', 'telah', 'mendapatkan', 'vaksin', 'dosis', 'ke', '2', 'wajib', 'menunjukkan', 'surat', 'keterangan', 'hasil', 'negatif', 'tes', 'antigenpcr', 'ya', 'kak1'], ['covid19', 'di', 'kalsel', 'bertambah', '120', 'kasus', 'httpstco29lyxkdza9'], ['tambahan', 'kasus', 'covid19', 'nasional', 'masih', 'di', 'lima', 'ribuan', 'orang', 'httpstcougcomdzp96', 'httpstco1ewlklziym'], ['pandemi', 'covid19', 'sempat', 'ganggu', 'persiapan', 'tim', 'jelang', 'piala', 'aff', 'u16', 'httpstcojl0znfwgez']]\n"
          ]
        }
      ]
    },
    {
      "cell_type": "code",
      "source": [
        "!pip install Sastrawi"
      ],
      "metadata": {
        "colab": {
          "base_uri": "https://localhost:8080/"
        },
        "id": "h9rLf_47Wv4p",
        "outputId": "bbed58f7-7db2-40e7-9728-c9fcb4059ac1"
      },
      "execution_count": 34,
      "outputs": [
        {
          "output_type": "stream",
          "name": "stdout",
          "text": [
            "Requirement already satisfied: Sastrawi in /usr/local/lib/python3.10/dist-packages (1.0.1)\n"
          ]
        }
      ]
    },
    {
      "cell_type": "code",
      "source": [
        "# Stemming\n",
        "from Sastrawi.Stemmer.StemmerFactory import StemmerFactory\n",
        "\n",
        "factory = StemmerFactory()\n",
        "stemmer = factory.create_stemmer()\n",
        "\n",
        "stemming = []\n",
        "\n",
        "for n in tokenzing:\n",
        "  stemming.append([stemmer.stem(word) for word in n])\n",
        "\n",
        "print(stemming)"
      ],
      "metadata": {
        "colab": {
          "base_uri": "https://localhost:8080/"
        },
        "id": "H6zlZVxXNFOB",
        "outputId": "4079b185-6539-4e3a-a2f8-4c9a0b5fbca4"
      },
      "execution_count": 57,
      "outputs": [
        {
          "output_type": "stream",
          "name": "stdout",
          "text": [
            "[['ajar', 'tatap', 'muka', 'henti', '57', 'hari', 'jika', 'ada', 'kasus', 'covid19', 'begini', 'atur', 'diskresi', 'sebut', 'httpstcogxuptepnda'], ['alhamdulillah', 'meski', 'pernah', 'jatuh', 'dalam', 'tempoh', 'pkp', 'ekor', 'pandemik', 'covid19', 'belum', 'ini', 'namun', 'ia', 'tidak', 'patah', 'semangat', 'saya', 'untuk', 'mencuba', 'bidang', 'baharu', 'dalam', 'sektor', 'penternakan', 'ini', 'httpstcovidgnmzy9f'], ['jadwal', 'dan', 'lokasi', 'vaksin', 'covid19', 'surabaya', 'hari', 'ini', '31', 'juli2022', 'httpstco0kcas128ff'], ['hallo', 'kawan', 'jmpatuhi', 'protokol', 'sehat', 'untuk', 'putus', 'sebar', 'covid19', 'buat', 'kawan', 'jm', 'yang', 'aktivitas', 'mana', 'dan', 'kapan', 'jangan', 'lupa', 'untuk', '6m', 'yayuk', 'bersamasama', 'kita', 'cegah', 'sebar', 'covid19', 'httpstcot23rxugjxr'], ['serda', 'sutarman', 'babinsa', 'lurah', 'lalung', 'koramil', '01karanganyar', 'laksana', 'giat', 'komsos', 'sama', 'warga', 'serta', 'unjung', 'warung', 'mbak', 'sriningsih', 'lingkung', 'jagan', 'lalung', 'karanganyar', 'babinsa', 'menghimbau', 'untuk', 'selalu', 'terap', '5', 'm', 'guna', 'cegah', 'tular', 'virus', 'covid19', 'httpstco0menznhupu'], ['serda', 'sutarman', 'babinsa', 'lurah', 'lalung', 'koramil', '01karanganyar', 'laksana', 'giat', 'komsos', 'sama', 'warga', 'serta', 'unjung', 'warung', 'mbak', 'sriningsih', 'lingkung', 'jagan', 'lalung', 'karanganyar', 'babinsa', 'menghimbau', 'untuk', 'selalu', 'terap', '5', 'm', 'guna', 'cegah', 'tular', 'virus', 'covid19', 'httpstcop54pfujavz'], ['serda', 'sutarman', 'babinsa', 'lurah', 'lalung', 'koramil', '01karanganyar', 'laksana', 'giat', 'komsos', 'sama', 'warga', 'serta', 'unjung', 'warung', 'mbak', 'sriningsih', 'lingkung', 'jagan', 'lalung', 'karanganyar', 'babinsa', 'menghimbau', 'untuk', 'selalu', 'terap', '5', 'm', 'guna', 'cegah', 'tular', 'virus', 'covid19', 'httpstcoq2zh5me4pe'], ['jaga', 'sehat', 'jadi', 'tanggung', 'jawab', 'sama', 'yuk', 'sayang', 'diri', 'kamu', 'dan', 'keluargakhofifahipemildardakjatimpemprov', 'jawatimur', 'jatimtanggapcovid19', 'covid19', 'coronavirus', 'httpstco0xj5klcwxm'], ['serda', 'sutarman', 'babinsa', 'lurah', 'lalung', 'koramil', '01karanganyar', 'laksana', 'giat', 'komsos', 'sama', 'warga', 'serta', 'unjung', 'warung', 'mbak', 'sriningsih', 'lingkung', 'jagan', 'lalung', 'karanganyar', 'babinsa', 'menghimbau', 'untuk', 'selalu', 'terap', '5', 'm', 'guna', 'cegah', 'tular', 'virus', 'covid19', 'httpstcohzdx8vk7kk'], ['catat', 'ini', 'jenis', 'vaksin', 'covid19', 'booster', 'dua', 'httpstcoejqsparc2w'], ['covid19', 'di', 'kalsel', 'tambah', '120', 'kasus', 'httpstco4pbcmkdzpe'], ['patroli', 'kryd', 'malammelaksanakan', 'cipkon', 'dan', 'menghimbau', 'kepada', 'masyarakat', 'untuk', 'disiplin', 'diri', 'agar', 'tetap', 'terap', 'prokes', 'serta', 'guna', 'masker', 'mana', 'dan', 'apa', 'aktivitas', 'kitasehingga', 'tanggulang', 'sebar', 'virus', 'covid', '19', 'cepat', 'atas', 'di', 'kabbarsel', 'httpstcoays9mohlic'], ['presiden', 'amerika', 'serikat', 'as', 'joe', 'biden', 'kembali', 'nyata', 'positif', 'covid19', 'biden', 'kata', 'diri', 'baikbaik', 'saja', 'httpstco7aabkejivr'], ['positif', 'covid19', 'lagi', 'biden', 'kembali', 'jalan', 'isoman', 'beritaindo', 'httpstco9raehvs1tm'], ['anggota', 'polsek', 'sidareja', 'laksana', 'giat', 'ops', 'yustisi', 'masker', 'guna', 'cegah', 'covid', '19', 'httpstcosiujfvcwlc'], ['anggota', 'polsek', 'sidareja', 'laksana', 'giat', 'ops', 'yustisi', 'masker', 'guna', 'cegah', 'covid', '19', 'httpstcojzubp8nrue'], ['anggota', 'polsek', 'sidareja', 'laksana', 'giat', 'ops', 'yustisi', 'masker', 'guna', 'cegah', 'covid', '19', 'httpstcoxa6tttf05f'], ['anggota', 'polsek', 'sidareja', 'laksana', 'giat', 'ops', 'yustisi', 'masker', 'guna', 'cegah', 'covid', '19', 'httpstcob7nnoxuloa'], ['operasi', 'yustisi', 'perwako', '49', 'tahun', '2020', 'di', 'wilayah', 'hukum', 'polsek', 'galang', 'tentang', 'tangan', 'disiplin', 'cegah', 'covid19yustisipolsekgalangpolrestabarelangpolripresisi', 'httpstcodhgtbc97pr'], ['taat', 'jaga', 'prokes', 'diri', 'keluarga', 'dan', 'teman', 'lindung', 'dari', 'covid19multimediahumaspoldajatimpolisiindonesiapolisiindonesiadivhumaspolrihumaspoldajatimhumasrestubanpolseksenoripolisi', 'police', 'polisiviral', 'polisijatim', 'polri', 'polripresisi', 'polisiindonesia', 'httpstco6y3cy81kza'], ['arnoldpoernomo', 'gw', 'rasa', 'bahkan', 'jauh', 'belum', 'program', 'masterchefina', 'segala', 'kasih', 'terang', 'belum', 'covid', '19', 'httpstco9butp6gok1'], ['bakti', 'jaga', 'selamat', 'masyarakat', 'mari', 'sama', 'kontribusi', 'cegah', 'tular', 'covid19', 'dengan', 'tetap', 'patuh', 'protokol', 'kesehatanserta', 'ikut', 'vaksinasi', 'covid19semangatpresisipolresgorontalo', 'httpstcodnn7jupxdh'], ['taat', 'jaga', 'prokes', 'diri', 'keluarga', 'dan', 'teman', 'lindung', 'dari', 'covid19multimediahumaspoldajatimpolisiindonesiapolisiindonesiadivhumaspolrihumaspoldajatimhumasrestubanpolseksenoripolisi', 'police', 'polisiviral', 'polisijatim', 'polri', 'polripresisi', 'polisiindonesia', 'httpstcobscabwlhon'], ['kes', 'aktif', 'covid19', 'dalam', 'negara', 'catat', 'kurang', 'banyak', '1286', 'kes', 'dengan', 'jumlah', 'kini', '47014', 'kesawaninews', 'awanipagi', 'malaysiasihathttpstconlttiz8jso'], ['4271', 'kes', 'baharu', 'covid19', 'catat', 'di', 'malaysia', 'pada', '30', 'julai', '2022', 'httpstconhwemrop6a', 'via', 'youtube'], ['dg', 'apresiasi', 'seluruh', 'individu', 'yang', 'sejak', 'tangan', 'covid19', 'kantor', 'ini', 'tidak', 'pernah', 'shut', 'down', 'jadi', 'kita', 'terus', 'kerja', '24', 'jam', 'dalam', '7', 'hari', 'bersinergimembangunri', 'httpstcozbmrz64z0c'], ['sekolah', 'anak', 'paksa', 'ptm', '50', 'karena', 'ada', 'banyak', 'kasus', 'covid19', 'di', 'bbrp', 'kelas', 'minggu', 'sekali', 'rotasi', 'bdrptmwaspada', 'mulai', 'kenceng', 'di', 'jabar'], ['cegah', 'tular', 'covid19', 'polsek', 'lebakgedong', 'bagi', 'maskergratis', 'httpstcowwws3ehryu'], ['kembang', 'kini', 'kes', 'covid19', 'di', 'malaysia', '1', 'kes', 'baharu', '4271', 'makin', 'turun', '2', 'kes', 'baharu', 'di', 'terengganu', '17', 'oh', 'ya', 'dah', 'turun', '3', 'kes', 'sembuh', 'amp', 'pulih', 'sepenuh', '5553', '4', 'kes', 'mati', 'ialah', 'lima', 'masih', 'kekal', 'httpstcogolffqfzip'], ['piotrwiel', 'covid19', 'akbar'], ['18', 'pasien', 'covid19', 'di', 'palangka', 'raya', 'sembuh', 'borneonews', 'httpstcouqn452at2d'], ['salah', 'satu', 'upaya', 'ini', 'pun', 'akhir', 'hasil', 'kondisi', 'covid19', 'dan', 'ekonomi', 'nasional', 'yang', 'saat', 'ini', 'makin', 'baik', 'bersinergimembangunri', 'httpstcocfhwtf7rxp'], ['hallo', 'kawan', 'jmpatuhi', 'protokol', 'sehat', 'untuk', 'putus', 'sebar', 'covid19', 'buat', 'kawan', 'jm', 'yang', 'aktivitas', 'mana', 'dan', 'kapan', 'jangan', 'lupa', 'untuk', '6m', 'yayuk', 'bersamasama', 'kita', 'cegah', 'sebar', 'covid19', 'httpstco93b82nzoys'], ['kitajagakita', 'covid19', 'dudukrumah', 'dapat', 'akhbar', 'hari', 'metro', 'di', 'kedai', 'dekat', 'masuk', 'di', 'manamana', '7eleven', 'berhampiranhttpstcomcvftdnf5s'], ['bagai', 'upaya', 'ini', 'pun', 'akhir', 'hasil', 'kondisi', 'covid19', 'dan', 'ekonomi', 'nasional', 'yang', 'saat', 'ini', 'makin', 'baik', 'alhamdulillah', 'sekali', 'bersinergimembangunri', 'httpstco3m12zgtxrq'], ['saya', 'apresiasi', 'seluruh', 'individu', 'yang', 'sejak', 'tangan', 'covid19', 'kantor', 'ini', 'tidak', 'pernah', 'shut', 'down', 'jadi', 'kita', 'terus', 'kerja', '24', 'jam', 'dalam', '7', 'hari', 'bersinergimembangunri', 'httpstco8vn2xb7juh'], ['saya', 'apresiasi', 'seluruh', 'individu', 'yang', 'sejak', 'tangan', 'covid19', 'kantor', 'ini', 'tidak', 'pernah', 'shut', 'down', 'jadi', 'kita', 'terus', 'kerja', '24', 'jam', 'dalam', '7', 'hari', 'bersinergimembangunri', 'httpstcoudgtdssko1'], ['sebar', 'kasus', 'covid19', 'di', '34', 'provinsi', 'indonesia', 'jakartatertinggi', 'httpstcoecdmhrthom'], ['sebar', 'kasus', 'covid19', 'di', '34', 'provinsi', 'indonesia', 'jakartatertinggi', 'httpstcoiv82r6dvk8'], ['jadi', 'lagi', 'sekolah', 'di', 'kulon', 'progo', 'setop', 'ptm', 'gegara', 'covid19', 'lonjak', 'detikcom', 'httpstcoywsocnm9wd'], ['sebar', 'kasus', 'covid19', 'di', '34', 'provinsi', 'indonesia', 'jakarta', 'tinggi', 'sindonews', 'bukanberitabiasa', 'httpstcoezoguhgzwf'], ['waduh', 'joe', 'biden', 'positif', 'covid19', 'lagi', 'tapi', 'tak', 'tunjuk', 'gejala', 'httpstcoj1rvraj0jz', 'httpstcopoh9xmf9ck'], ['korea', 'utara', 'klaim', 'nihil', 'kasus', 'covid19', 'baru', 'httpstcofjx34srwxe', 'beritajogja', 'jogja', 'jogjaistimewa', 'httpstco6hcotuavrb'], ['top', 'story', 'di', 'sragen', 'sragentina', 'sragenpmi', 'jangan', 'lengah', 'covid', 'belum', 'musnahsabtu', '30722', 'rawan', 'gabung', 'makam', 'covid19', 'laksana', 'makam', 'dengan', 'protokol', 'sehat', 'jenazah', 'konfirmasi', 'covid19', 'di', 'wila', 'httpstcojj8egs4mif', 'see', 'more', 'httpstconaoccray0t'], ['tanmar3m', 'covid', '19', 'sakit', 'banyak', 'dosis', 'vaksin', 'dlm', 'jk', 'wkt', 'pendek'], ['giat', 'sterilisasi', 'upa', 'semprot', 'disinfektan', 'di', 'putar', 'tempat', 'layan', 'publik', 'polres', 'badung', 'masih', 'tetap', 'rutin', 'laksana', 'dengan', 'tuju', 'untuk', 'cegah', 'dan', 'putus', 'mata', 'rantai', 'sebar', 'covid19', 'minggu', '31072022taatprokescegahcovid19', 'httpstco1jafdh3p5v'], ['joe', 'biden', 'nyata', 'positif', 'covid19', 'dua', 'kali', 'httpstcorfdn0urcdo'], ['hallo', 'kawan', 'jmpatuhi', 'protokol', 'sehat', 'untuk', 'putus', 'sebar', 'covid19', 'buat', 'kawan', 'jm', 'yang', 'aktivitas', 'mana', 'dan', 'kapan', 'jangan', 'lupa', 'untuk', '6m', 'yayuk', 'bersamasama', 'kita', 'cegah', 'sebar', 'covid19', 'httpstcos28aycxzbi'], ['temu', 'cacar', 'monyet', 'lebih', 'mudah', 'jika', 'banding', 'covid19', 'sakit', 'ini', 'milik', 'gejala', 'spesifik', 'seperti', 'ruam', 'merah', 'pada', 'kulit', 'tangan', 'atau', 'wajah', 'benjol', 'pada', 'selangkang', 'hingga', 'lesi', 'atau', 'benjol', 'kecil', 'isi', 'cair', 'di', 'bawah', 'muka', 'kulitjokowi', 'lawan', 'pandemi', 'httpstcoq7kejuz4pf'], ['cegah', 'tular', 'covid19', 'polres', 'klungkung', 'bagi', 'masker', 'gratis', 'di', 'wilayah', 'kab', 'klungkung', 'minggu', '3172022', 'httpstcoqyibcugedp'], ['permen', 'karet', 'ace2', 'potensi', 'cegah', 'tular', 'covidpenelitiankesehatancovid19', 'httpstcoehertdefa9'], ['cukup', 'pakai', 'teh', 'dan', 'jahe', 'cukup', '3', 'bulan', 'korea', 'utara', 'klaim', 'sukses', 'tekan', 'sebar', 'virus', 'corona', 'hingga', 'nol', 'kasushttpstcodsxtl2kz53koreautara', 'korut', 'beritaterkini', 'beritaterbaru', 'covid19'], ['satu', 'tugas', 'satgas', 'tangan', 'covid19', 'catat', 'vaksinasi', 'covid19', 'dosis', 'kuat', 'capai', 'banyak', '55835790', 'orang', 'di', 'indonesia', 'atau', 'tambah', 'banyak', '54649', 'orang', 'pada', 'sabtu', '307', 'httpstcom9zpoym5ll'], ['joe', 'biden', 'bahahaha', 'covidians', 'booster', 'covid19', 'joebiden', 'toofunny'], ['cnnindonesia', 'lahcovid', '19'], ['jangan', 'lengah', 'covid', 'belum', 'musnahsabtu', '30722', 'rawan', 'gabung', 'makam', 'covid19', 'laksana', 'makam', 'dengan', 'protokol', 'sehat', 'jenazah', 'konfirmasi', 'covid19', 'di', 'wilayah', 'gondang', 'sragenpmiselalubantu', 'covid19', 'httpstcosfekmzc26j'], ['thesaadkaiser', 'cmshehbaz', 'dengue', 'aya', 'shehbaz', 'nhi', 'dara', 'us', 'ny', 'hr', 'us', 'mareez', 'k', 'sath', 'waada', 'kia', 'tha', 'me', 'dengue', 'k', 'khilaaf', 'jang', 'kru', 'ga', 'tm', 'logo', 'k', 'liye', 'or', 'allah', 'haq', 'janta', 'he', 'kis', 'trha', 'us', 'ny', 'koshish', 'ki', 'or', 'jeetaor', 'wo', 'fitna', 'khan', 'covid19', 'aya', 'to', 'phir', 'bhaag', 'gya', 'paharo', 'pr', 'kah', 'mjhy', 'na', 'ho', 'jye', 'awam', 'jye', 'bhaar', 'me'], ['joe', 'biden', 'nyata', 'positif', 'covid19', 'keduakalinya', 'httpstcosy1h86lqvb'], ['brainchildguru', 'emerald11279222', 'kbullocks', 'sfchronicle', 'wuhan', 'lab', 'covid19', 'monkeypox'], ['my', 'hero', 'academia', 'deku', 'va', 'daiki', 'yamashita', 'tests', 'positive', 'for', 'covid19', 'via', 'httpstcoghjnaaucjb'], ['hallo', 'kawan', 'jmpatuhi', 'protokol', 'sehat', 'untuk', 'putus', 'sebar', 'covid19', 'buat', 'kawan', 'jm', 'yang', 'aktivitas', 'mana', 'dan', 'kapan', 'jangan', 'lupa', 'untuk', '6m', 'yayuk', 'bersamasama', 'kita', 'cegah', 'sebar', 'covid19', 'httpstcoadgecfizck'], ['joe', 'biden', 'nyata', 'positif', 'covid19lagi', 'httpstcovc6wrneqzg'], ['nyuma', 'yumuganda', 'pes', 'wintara', 'y', 'iburengerazuba', 'madame', 'uwambajemariya', 'florence', 'na', 'komite', 'nyobozi', 'ya', 'rutsirodistrict', 'baganirije', 'abaturage', 'kur', 'gahunda', 'zinyuranye', 'zirimoumutekano', 'kwikingiza', 'covid19', 'musa', 'kwitezimbere', 'habitegekofran1', 'murekatetetrip1', 'rwandalocalgov', 'httpstco8tv3vvihbu'], ['nyuma', 'yiminsi', 'itatu', 'gusa', 'avuye', 'mu', 'kato', 'nyuma', 'yo', 'kwemeza', 'ko', 'yakize', 'covid19', 'muzehe', 'mususumizi', 'biden', 'yongere', 'kwandura', 'icyo', 'cyorezomu', 'gihe', 'umwuka', 'wintambara', 'ututumba', 'ku', 'nkombe', 'zuburengero', 'bwinyanja', 'ya', 'pasifika', 'httpstcofrndpqgzpv'], ['ikut', 'data', 'kasus', 'covid19', 'minggu', 'terakhirhttpstco7qclubrwbr'], ['tangerang', '30', 'juli', '2022', 'kami', 'rujuk', 'pada', 'data', 'website', 'covid19', 'resmi', 'perintah', 'kota', 'tangerang', 'dasar', 'data', 'dari', 'dinas', 'sehat', 'kota', 'tangerangselengkapnya', 'httpstcojsgxqshkrxkotatangerangupdatecoronacovid19waspadabolehpanikjangan', 'httpstcoe8alrlqdnh'], ['kendali', 'covid19', 'satlantas', 'polres', 'tanjungbalai', 'imbau', 'warga', 'kena', 'masker', 'saat', 'keluar', 'rumah', 'httpstcomop4otkomx'], ['ppkm', 'akhir', 'besok', '1', 'agustus', 'begini', 'update', 'covid19', 'nasional', 'httpstcotdcj0thpcg'], ['positif', 'covid19', 'tambah', '5398', 'kasus', '13', 'tinggal', 'dunia', 'sindonews', 'bukanberitabiasa', 'httpstcofye9zplhdl'], ['agnostikid', 'orcql', 'mistycerest', 'iyaaps', 'daripada', 'positive', 'covid19', 'soal', 'gaguna', 'juga', 'sali', 'ga', 'bakal', 'ngubah', 'apapaun'], ['asean', 'airpollution', 'trending', 'southeastasia', 'polusigedungperkantoran', 'dkijakarta', 'polusiapartemen', 'iqair', 'imf', 'bi', 'ispa', 'kanker', 'covid19', 'g20', 'dosapltupln', 'demi', 'apa', 'semua', 'keburu', 'ini', 'tau', 'gak', 'sih', 'jika', 'keburu', 'ini', 'bs', 'sebab', 'warga', 'mu', 'jatuh', 'sakit', 'bener2', 'gak', 'ada', 'ahlak', 'y', 'httpstcogvlcyruzap'], ['ani', 'hmm', 'ye', 'covid19', 'kya', 'hide', 'amp', 'seak', 'khel', 'rha', 'potus', 'mr', 'biden', 'ke', 'sathgetwellsoonsir'], ['miftahismail', 'chotti', 'bachi', 'ho', 'kia', 'ik', 'jb', 'aya', 'thaa', 'tow', 'covid19', 'aa', 'gya', 'thaa', 'ap', 'k', 'dor', 'main', 'aisa', 'kch', 'hai', 'smooth', 'period', 'of', 'time', 'milla', 'hai', 'tabaah', 'kr', 'k', 'rkh', 'diya', 'mulk', 'ko'], ['hallo', 'kawan', 'jmpatuhi', 'protokol', 'sehat', 'untuk', 'putus', 'sebar', 'covid19', 'buat', 'kawan', 'jm', 'yang', 'aktivitas', 'mana', 'dan', 'kapan', 'jangan', 'lupa', 'untuk', '6m', 'yayuk', 'bersamasama', 'kita', 'cegah', 'sebar', 'covid19', 'httpstco1okhlh2fgf'], ['grup', 'idol', 'ini', 'potensi', 'positif', 'covid19', 'tapi', 'maksa', 'tetap', 'syuting', 'isac', 'netizen', 'khawatir', 'idolstarathleticchampionship', 'httpstcos7nz4to4ft', 'httpstcogypqd02nhl'], ['para', 'ilmuwan', 'ungkap', 'fakta', 'baru', 'di', 'balik', 'muncul', 'hepatitis', 'misterius', 'pasti', 'tak', 'kait', 'covid19', 'ini', 'sebab', 'httpstcoij7ymoj8gz'], ['ini', 'adalah', 'lapor', 'nol', 'kasus', 'demam', 'pertama', 'kali', 'sejak', 'korut', 'pertama', 'kali', 'aku', 'covid19', 'rebak', 'di', 'sana', 'pada', 'tengah', 'mei', 'lalu', 'kumparannews', 'httpstcou9tkt2xe7u'], ['i7nnewsrais', 'wa', 'marekani', 'joe', 'biden', 'apatikana', 'na', 'maambukizi', 'ya', 'corona', 'covid19', 'kwa', 'mara', 'nyengine', 'tena', 'siku', 'tatu', '3', 'baada', 'ya', 'kujitenga', 'akipata', 'matibabu', 'ya', 'korona', 'ikulu', 'ya', 'marekani', 'white', 'house', 'imesema', 'httpstcouw0wu15smv'], ['hallo', 'kawan', 'jmpatuhi', 'protokol', 'sehat', 'untuk', 'putus', 'sebar', 'covid19', 'buat', 'kawan', 'jm', 'yang', 'aktivitas', 'mana', 'dan', 'kapan', 'jangan', 'lupa', 'untuk', '6m', 'yayuk', 'bersamasama', 'kita', 'cegah', 'sebar', 'covid19', 'httpstcon2o2xuelw0'], ['vaksin', 'covid19', 'produksi', 'astrazeneca', 'klaim', 'bahwa', 'telah', 'dosis', 'empat', 'beri', 'akan', 'tingkat', 'sekitar', '73', 'persen', 'terima', 'vaksin', 'dari', 'infeksi', 'varian', 'omicron', 'sains', 'httpstco5tvtnvk99j'], ['rfiha', 'to', 'shin', 'wai', 'haryanzu', 'ba', 'a', 'gama', 'wannan', 'wasan', 'yaranba', 'ni', 'kawai', 'covid19', 'wasan', 'yara', 'na', 'dauketamu', 'yan', 'nigeria', 'ne', 'ke', 'fama', 'da', 'covid19'], ['doktertifa', 'jokowi', 'aniesbaswedan', 'ridwankamil', 'bagaimana', 'dg', 'tebang', 'pohon', 'di', 'monas', 'lalu', 'rumah', 'dp', '0', 'lantas', 'gimana', 'dg', 'okockelebihan', 'bayar', 'bagai', 'projek', 'lab', 'covid19', 'yg', 'kata', 'sdh', 'bangun'], ['mheshimiwa', 'rais', 'wa', 'melikani', 'yanduye', 'covid19', 'nyagasani', 'arinde', 'uyu', 'mukambwe', 'httpstcobgxwmlkqp3'], ['abakorerabushake', 'saving', 'group', 'yo', 'muri', 'sectorsovu', 'ngororerodistr', 'bakomeje', 'gahunda', 'yo', 'kwizigama', 'ndetse', 'banagura', 'ihene', 'yaragijwe', 'umwe', 'mu', 'banyamuryango', 'nyuma', 'yo', 'kwizigama', 'bakomereje', 'mubukangurambaga', 'bwo', 'kwirinda', 'no', 'kurwanya', 'covid19', 'kubanarichard', 'rwandayouth', 'gatjmv', 'httpstcozkqvq7jafn'], ['ri', 'tambah', '5398', 'positif', 'covid19', 'kepri', 'sumbang', '22', 'kasus', 'httpstcodbk4jtjvaz'], ['ri', 'tambah', '5398', 'positif', 'covid19', 'kepri', 'sumbang', '22', 'kasus', 'httpstcoaszwqq6wtw'], ['byblackangel', 'tegawatisp', 'gwnz0410', 'gratisterbaik', 'ptkaiindonesia', 'mpraldo', 'stopplandemit', 'vfathun', 'nichosilalah1', 'nichosilalahi', 'drtedros', 'jokowi', 'kemenkesri', 'pbidi', 'kemenhub151', 'selamat', 'pagi', 'sesuai', 'se', 'kemenhub', 'no', '72', 'tahun', '2022', 'amp', 'se', 'satgas', 'covid19', 'no', '21', 'tahun', '2022', 'yang', 'laku', 'mulai', 'tanggal', '17', 'juli', 'calon', 'tumpang', 'yang', 'telah', 'dapat', 'vaksinasi', 'dosis', 'tiga', 'booster', 'tidak', 'wajib', 'tunjuk', 'hasil', 'negatif', 'tes', 'rtpcrantigen', '1'], ['data', 'jummlah', 'mati', 'di', 'asia', 'akibat', 'covid19', 'hari', 'ini', 'sebanyak169120963'], ['asean', 'airpollution', 'trending', 'southeastasia', 'polusigedungperkantoran', 'dkijakarta', 'polusiapartemen', 'iqair', 'imf', 'bi', 'ispa', 'kanker', 'covid19', 'g20', 'dosapltupln', 'juara', '1', 'di', 'asia', 'tenggara', 'jakarta', 'pd', 'sabtu', '3072022', '24', 'jam', 'udara', 'polusi', 'sangat', 'buruk', 'pdhal', 'hari', 'libur', 'nasional', 'ngeri', 'httpstcorzbthyr4wv'], ['mendikbudristek', 'keluar', 'surat', 'edar', 'pandu', 'selenggara', 'ajar', 'di', 'masa', 'pandemicovid19', 'httpstco2yrxo9xzlq'], ['data', 'pantau', 'dan', 'peta', 'sebar', 'covid19', 'di', 'kabupaten', 'jember', 'per', 'sabtu', '30', 'juli', '2022untuk', 'update', 'informasi', 'covid19', 'jawa', 'timur', 'bisa', 'akses', 'link', 'ikut', 'httpstcoey2zbclefkjatimpemprov', 'atau', 'kunjung', 'link', 'ikut', 'httpstcohbm4ld3tjb', 'httpstcoe9x0e29imh'], ['woooo', 'alibi', 'sedang', 'sakit', 'covid19'], ['nulphin', 'tutarejea', 'kwenye', 'kesi', 'ya', 'covid19'], ['queserasera8072', 'nanmanjoi8715', 'epuliskandar', 'gangster', 'takut', 'covid19'], ['meshackluvand10', 'kodi', 'za', 'ruzuku', 'mlizochukua', 'b60', 'miaka', '15', 'ziko', 'wapi', 'hata', 'kibanda', 'cha', 'ofisi', 'hamnakodi', 'za', 'posho', 'za', 'ubunge', 'huku', 'mlikuwa', 'mkisusia', 'vikao', 'na', 'maplasta', 'mdomoni', 'ziko', 'wapiukweli', 'hamjawahi', 'kuwa', 'na', 'akil', 'zaidi', 'ya', 'wivu', 'kwq', 'madem', 'wa', 'covid19'], ['menkes', 'ungkap', 'wantiwantinya', 'jika', 'suatu', 'hari', 'pandemi', 'seperti', 'covid19', 'jadi', 'lagi', 'turut', 'ri', 'kini', 'serba', 'gantung', 'pada', 'pasok', 'obat', 'negara', 'lain', 'httpstcouqi35kjxvb'], ['tegawatisp', 'gwnz0410', 'gratisterbaik', 'ptkaiindonesia', 'mpraldo', 'stopplandemit', 'vfathun', 'byblackangel', 'nichosilalah1', 'nichosilalahi', 'drtedros', 'jokowi', 'kemenkesri', 'pbidi', 'kemenhub151', 'sesuai', 'se', 'kemenhub', 'no', '72', 'tahun', '2022', 'amp', 'se', 'satgas', 'covid19', 'no', '21', 'tahun', '2022', 'yang', 'laku', 'mulai', 'tanggal', '17', 'juli', 'calon', 'tumpang', 'ka', 'jarak', 'jauh', 'yang', 'telah', 'dapat', 'vaksin', 'dosis', 'ke', '2', 'wajib', 'tunjuk', 'surat', 'terang', 'hasil', 'negatif', 'tes', 'antigenpcr', 'ya', 'kak1'], ['covid19', 'di', 'kalsel', 'tambah', '120', 'kasus', 'httpstco29lyxkdza9'], ['tambah', 'kasus', 'covid19', 'nasional', 'masih', 'di', 'lima', 'ribu', 'orang', 'httpstcougcomdzp96', 'httpstco1ewlklziym'], ['pandemi', 'covid19', 'sempat', 'ganggu', 'siap', 'tim', 'jelang', 'piala', 'aff', 'u16', 'httpstcojl0znfwgez']]\n"
          ]
        }
      ]
    },
    {
      "cell_type": "code",
      "source": [
        "# stopword\n",
        "from Sastrawi.StopWordRemover.StopWordRemoverFactory import StopWordRemoverFactory\n",
        "\n",
        "factory = StopWordRemoverFactory()\n",
        "stopwords = factory.get_stop_words()\n",
        "\n",
        "stopword_remover = factory.create_stop_word_remover()\n",
        "\n",
        "stopword = []\n",
        "\n",
        "for s in stemming:\n",
        "  sentence = ' '.join(s)\n",
        "  filtered_sentence = stopword_remover.remove(sentence)\n",
        "  stopword.append(filtered_sentence.split(' '))\n",
        "\n",
        "print(stopword)\n"
      ],
      "metadata": {
        "colab": {
          "base_uri": "https://localhost:8080/"
        },
        "id": "D_1Z6so4rHf_",
        "outputId": "c9f3cb7e-795d-4d37-87f8-fe9854011893"
      },
      "execution_count": 58,
      "outputs": [
        {
          "output_type": "stream",
          "name": "stdout",
          "text": [
            "[['ajar', 'tatap', 'muka', 'henti', '57', 'hari', 'ada', 'kasus', 'covid19', 'begini', 'atur', 'diskresi', 'sebut', 'httpstcogxuptepnda'], ['alhamdulillah', 'meski', 'pernah', 'jatuh', 'tempoh', 'pkp', 'ekor', 'pandemik', 'covid19', 'ia', 'patah', 'semangat', 'untuk', 'mencuba', 'bidang', 'baharu', 'sektor', 'penternakan', 'ini', 'httpstcovidgnmzy9f'], ['jadwal', 'lokasi', 'vaksin', 'covid19', 'surabaya', 'hari', '31', 'juli2022', 'httpstco0kcas128ff'], ['hallo', 'kawan', 'jmpatuhi', 'protokol', 'sehat', 'putus', 'sebar', 'covid19', 'buat', 'kawan', 'jm', 'aktivitas', 'mana', 'kapan', 'jangan', 'lupa', '6m', 'yayuk', 'bersamasama', 'cegah', 'sebar', 'covid19', 'httpstcot23rxugjxr'], ['serda', 'sutarman', 'babinsa', 'lurah', 'lalung', 'koramil', '01karanganyar', 'laksana', 'giat', 'komsos', 'sama', 'warga', 'unjung', 'warung', 'mbak', 'sriningsih', 'lingkung', 'jagan', 'lalung', 'karanganyar', 'babinsa', 'menghimbau', 'selalu', 'terap', '5', 'm', 'cegah', 'tular', 'virus', 'covid19', 'httpstco0menznhupu'], ['serda', 'sutarman', 'babinsa', 'lurah', 'lalung', 'koramil', '01karanganyar', 'laksana', 'giat', 'komsos', 'sama', 'warga', 'unjung', 'warung', 'mbak', 'sriningsih', 'lingkung', 'jagan', 'lalung', 'karanganyar', 'babinsa', 'menghimbau', 'selalu', 'terap', '5', 'm', 'cegah', 'tular', 'virus', 'covid19', 'httpstcop54pfujavz'], ['serda', 'sutarman', 'babinsa', 'lurah', 'lalung', 'koramil', '01karanganyar', 'laksana', 'giat', 'komsos', 'sama', 'warga', 'unjung', 'warung', 'mbak', 'sriningsih', 'lingkung', 'jagan', 'lalung', 'karanganyar', 'babinsa', 'menghimbau', 'selalu', 'terap', '5', 'm', 'cegah', 'tular', 'virus', 'covid19', 'httpstcoq2zh5me4pe'], ['jaga', 'sehat', 'jadi', 'tanggung', 'jawab', 'sama', 'yuk', 'sayang', 'diri', 'kamu', 'keluargakhofifahipemildardakjatimpemprov', 'jawatimur', 'jatimtanggapcovid19', 'covid19', 'coronavirus', 'httpstco0xj5klcwxm'], ['serda', 'sutarman', 'babinsa', 'lurah', 'lalung', 'koramil', '01karanganyar', 'laksana', 'giat', 'komsos', 'sama', 'warga', 'unjung', 'warung', 'mbak', 'sriningsih', 'lingkung', 'jagan', 'lalung', 'karanganyar', 'babinsa', 'menghimbau', 'selalu', 'terap', '5', 'm', 'cegah', 'tular', 'virus', 'covid19', 'httpstcohzdx8vk7kk'], ['catat', 'jenis', 'vaksin', 'covid19', 'booster', 'httpstcoejqsparc2w'], ['covid19', 'kalsel', 'tambah', '120', 'kasus', 'httpstco4pbcmkdzpe'], ['patroli', 'kryd', 'malammelaksanakan', 'cipkon', 'menghimbau', 'masyarakat', 'disiplin', 'diri', 'tetap', 'terap', 'prokes', 'guna', 'masker', 'mana', 'apa', 'aktivitas', 'kitasehingga', 'tanggulang', 'sebar', 'virus', 'covid', '19', 'cepat', 'atas', 'kabbarsel', 'httpstcoays9mohlic'], ['presiden', 'amerika', 'serikat', 'as', 'joe', 'biden', 'nyata', 'positif', 'covid19', 'biden', 'kata', 'diri', 'baikbaik', 'httpstco7aabkejivr'], ['positif', 'covid19', 'biden', 'jalan', 'isoman', 'beritaindo', 'httpstco9raehvs1tm'], ['anggota', 'polsek', 'sidareja', 'laksana', 'giat', 'ops', 'yustisi', 'masker', 'cegah', 'covid', '19', 'httpstcosiujfvcwlc'], ['anggota', 'polsek', 'sidareja', 'laksana', 'giat', 'ops', 'yustisi', 'masker', 'cegah', 'covid', '19', 'httpstcojzubp8nrue'], ['anggota', 'polsek', 'sidareja', 'laksana', 'giat', 'ops', 'yustisi', 'masker', 'cegah', 'covid', '19', 'httpstcoxa6tttf05f'], ['anggota', 'polsek', 'sidareja', 'laksana', 'giat', 'ops', 'yustisi', 'masker', 'cegah', 'covid', '19', 'httpstcob7nnoxuloa'], ['operasi', 'yustisi', 'perwako', '49', 'tahun', '2020', 'wilayah', 'hukum', 'polsek', 'galang', 'tangan', 'disiplin', 'cegah', 'covid19yustisipolsekgalangpolrestabarelangpolripresisi', 'httpstcodhgtbc97pr'], ['taat', 'jaga', 'prokes', 'diri', 'keluarga', 'teman', 'lindung', 'covid19multimediahumaspoldajatimpolisiindonesiapolisiindonesiadivhumaspolrihumaspoldajatimhumasrestubanpolseksenoripolisi', 'police', 'polisiviral', 'polisijatim', 'polri', 'polripresisi', 'polisiindonesia', 'httpstco6y3cy81kza'], ['arnoldpoernomo', 'gw', 'rasa', 'bahkan', 'jauh', 'program', 'masterchefina', 'segala', 'kasih', 'terang', 'covid', '19', 'httpstco9butp6gok1'], ['bakti', 'jaga', 'selamat', 'masyarakat', 'sama', 'kontribusi', 'cegah', 'tular', 'covid19', 'tetap', 'patuh', 'protokol', 'kesehatanserta', 'ikut', 'vaksinasi', 'covid19semangatpresisipolresgorontalo', 'httpstcodnn7jupxdh'], ['taat', 'jaga', 'prokes', 'diri', 'keluarga', 'teman', 'lindung', 'covid19multimediahumaspoldajatimpolisiindonesiapolisiindonesiadivhumaspolrihumaspoldajatimhumasrestubanpolseksenoripolisi', 'police', 'polisiviral', 'polisijatim', 'polri', 'polripresisi', 'polisiindonesia', 'httpstcobscabwlhon'], ['kes', 'aktif', 'covid19', 'negara', 'catat', 'kurang', 'banyak', '1286', 'kes', 'jumlah', 'kini', '47014', 'kesawaninews', 'awanipagi', 'malaysiasihathttpstconlttiz8jso'], ['4271', 'kes', 'baharu', 'covid19', 'catat', 'malaysia', '30', 'julai', '2022', 'httpstconhwemrop6a', 'via', 'youtube'], ['dg', 'apresiasi', 'seluruh', 'individu', 'sejak', 'tangan', 'covid19', 'kantor', 'tidak', 'pernah', 'shut', 'down', 'jadi', 'terus', 'kerja', '24', 'jam', '7', 'hari', 'bersinergimembangunri', 'httpstcozbmrz64z0c'], ['sekolah', 'anak', 'paksa', 'ptm', '50', 'ada', 'banyak', 'kasus', 'covid19', 'bbrp', 'kelas', 'minggu', 'sekali', 'rotasi', 'bdrptmwaspada', 'mulai', 'kenceng', 'jabar'], ['cegah', 'tular', 'covid19', 'polsek', 'lebakgedong', 'maskergratis', 'httpstcowwws3ehryu'], ['kembang', 'kini', 'kes', 'covid19', 'malaysia', '1', 'kes', 'baharu', '4271', 'makin', 'turun', '2', 'kes', 'baharu', 'terengganu', '17', 'ya', 'dah', 'turun', '3', 'kes', 'sembuh', 'amp', 'pulih', 'sepenuh', '5553', '4', 'kes', 'mati', 'ialah', 'lima', 'kekal', 'httpstcogolffqfzip'], ['piotrwiel', 'covid19', 'akbar'], ['18', 'pasien', 'covid19', 'palangka', 'raya', 'sembuh', 'borneonews', 'httpstcouqn452at2d'], ['salah', 'satu', 'upaya', 'pun', 'akhir', 'hasil', 'kondisi', 'covid19', 'ekonomi', 'nasional', 'saat', 'makin', 'baik', 'bersinergimembangunri', 'httpstcocfhwtf7rxp'], ['hallo', 'kawan', 'jmpatuhi', 'protokol', 'sehat', 'putus', 'sebar', 'covid19', 'buat', 'kawan', 'jm', 'aktivitas', 'mana', 'kapan', 'jangan', 'lupa', '6m', 'yayuk', 'bersamasama', 'cegah', 'sebar', 'covid19', 'httpstco93b82nzoys'], ['kitajagakita', 'covid19', 'dudukrumah', 'akhbar', 'hari', 'metro', 'kedai', 'dekat', 'masuk', 'manamana', '7eleven', 'berhampiranhttpstcomcvftdnf5s'], ['bagai', 'upaya', 'pun', 'akhir', 'hasil', 'kondisi', 'covid19', 'ekonomi', 'nasional', 'saat', 'makin', 'baik', 'alhamdulillah', 'sekali', 'bersinergimembangunri', 'httpstco3m12zgtxrq'], ['apresiasi', 'seluruh', 'individu', 'sejak', 'tangan', 'covid19', 'kantor', 'tidak', 'pernah', 'shut', 'down', 'jadi', 'terus', 'kerja', '24', 'jam', '7', 'hari', 'bersinergimembangunri', 'httpstco8vn2xb7juh'], ['apresiasi', 'seluruh', 'individu', 'sejak', 'tangan', 'covid19', 'kantor', 'tidak', 'pernah', 'shut', 'down', 'jadi', 'terus', 'kerja', '24', 'jam', '7', 'hari', 'bersinergimembangunri', 'httpstcoudgtdssko1'], ['sebar', 'kasus', 'covid19', '34', 'provinsi', 'indonesia', 'jakartatertinggi', 'httpstcoecdmhrthom'], ['sebar', 'kasus', 'covid19', '34', 'provinsi', 'indonesia', 'jakartatertinggi', 'httpstcoiv82r6dvk8'], ['jadi', 'sekolah', 'kulon', 'progo', 'setop', 'ptm', 'gegara', 'covid19', 'lonjak', 'detikcom', 'httpstcoywsocnm9wd'], ['sebar', 'kasus', 'covid19', '34', 'provinsi', 'indonesia', 'jakarta', 'tinggi', 'sindonews', 'bukanberitabiasa', 'httpstcoezoguhgzwf'], ['waduh', 'joe', 'biden', 'positif', 'covid19', 'tapi', 'tak', 'tunjuk', 'gejala', 'httpstcoj1rvraj0jz', 'httpstcopoh9xmf9ck'], ['korea', 'utara', 'klaim', 'nihil', 'kasus', 'covid19', 'baru', 'httpstcofjx34srwxe', 'beritajogja', 'jogja', 'jogjaistimewa', 'httpstco6hcotuavrb'], ['top', 'story', 'sragen', 'sragentina', 'sragenpmi', 'jangan', 'lengah', 'covid', 'musnahsabtu', '30722', 'rawan', 'gabung', 'makam', 'covid19', 'laksana', 'makam', 'protokol', 'sehat', 'jenazah', 'konfirmasi', 'covid19', 'wila', 'httpstcojj8egs4mif', 'see', 'more', 'httpstconaoccray0t'], ['tanmar3m', 'covid', '19', 'sakit', 'banyak', 'dosis', 'vaksin', 'dlm', 'jk', 'wkt', 'pendek'], ['giat', 'sterilisasi', 'upa', 'semprot', 'disinfektan', 'putar', 'tempat', 'layan', 'publik', 'polres', 'badung', 'tetap', 'rutin', 'laksana', 'tuju', 'cegah', 'putus', 'mata', 'rantai', 'sebar', 'covid19', 'minggu', '31072022taatprokescegahcovid19', 'httpstco1jafdh3p5v'], ['joe', 'biden', 'nyata', 'positif', 'covid19', 'kali', 'httpstcorfdn0urcdo'], ['hallo', 'kawan', 'jmpatuhi', 'protokol', 'sehat', 'putus', 'sebar', 'covid19', 'buat', 'kawan', 'jm', 'aktivitas', 'mana', 'kapan', 'jangan', 'lupa', '6m', 'yayuk', 'bersamasama', 'cegah', 'sebar', 'covid19', 'httpstcos28aycxzbi'], ['temu', 'cacar', 'monyet', 'lebih', 'mudah', 'banding', 'covid19', 'sakit', 'milik', 'gejala', 'spesifik', 'ruam', 'merah', 'kulit', 'tangan', 'wajah', 'benjol', 'selangkang', 'hingga', 'lesi', 'benjol', 'kecil', 'isi', 'cair', 'bawah', 'muka', 'kulitjokowi', 'lawan', 'pandemi', 'httpstcoq7kejuz4pf'], ['cegah', 'tular', 'covid19', 'polres', 'klungkung', 'masker', 'gratis', 'wilayah', 'kab', 'klungkung', 'minggu', '3172022', 'httpstcoqyibcugedp'], ['permen', 'karet', 'ace2', 'potensi', 'cegah', 'tular', 'covidpenelitiankesehatancovid19', 'httpstcoehertdefa9'], ['cukup', 'pakai', 'teh', 'jahe', 'cukup', '3', 'bulan', 'korea', 'utara', 'klaim', 'sukses', 'tekan', 'sebar', 'virus', 'corona', 'hingga', 'nol', 'kasushttpstcodsxtl2kz53koreautara', 'korut', 'beritaterkini', 'beritaterbaru', 'covid19'], ['satu', 'tugas', 'satgas', 'tangan', 'covid19', 'catat', 'vaksinasi', 'covid19', 'dosis', 'kuat', 'capai', 'banyak', '55835790', 'orang', 'indonesia', 'tambah', 'banyak', '54649', 'orang', 'sabtu', '307', 'httpstcom9zpoym5ll'], ['joe', 'biden', 'bahahaha', 'covidians', 'booster', 'covid19', 'joebiden', 'toofunny'], ['cnnindonesia', 'lahcovid', '19'], ['jangan', 'lengah', 'covid', 'musnahsabtu', '30722', 'rawan', 'gabung', 'makam', 'covid19', 'laksana', 'makam', 'protokol', 'sehat', 'jenazah', 'konfirmasi', 'covid19', 'wilayah', 'gondang', 'sragenpmiselalubantu', 'covid19', 'httpstcosfekmzc26j'], ['thesaadkaiser', 'cmshehbaz', 'dengue', 'aya', 'shehbaz', 'nhi', 'dara', 'us', 'ny', 'hr', 'us', 'mareez', 'k', 'sath', 'waada', 'kia', 'tha', 'me', 'dengue', 'k', 'khilaaf', 'jang', 'kru', 'ga', 'tm', 'logo', 'k', 'liye', 'or', 'allah', 'haq', 'janta', 'he', 'kis', 'trha', 'us', 'ny', 'koshish', 'ki', 'or', 'jeetaor', 'wo', 'fitna', 'khan', 'covid19', 'aya', 'to', 'phir', 'bhaag', 'gya', 'paharo', 'pr', 'mjhy', 'na', 'ho', 'jye', 'awam', 'jye', 'bhaar', 'me'], ['joe', 'biden', 'nyata', 'positif', 'covid19', 'keduakalinya', 'httpstcosy1h86lqvb'], ['brainchildguru', 'emerald11279222', 'kbullocks', 'sfchronicle', 'wuhan', 'lab', 'covid19', 'monkeypox'], ['my', 'hero', 'academia', 'deku', 'va', 'daiki', 'yamashita', 'tests', 'positive', 'for', 'covid19', 'via', 'httpstcoghjnaaucjb'], ['hallo', 'kawan', 'jmpatuhi', 'protokol', 'sehat', 'putus', 'sebar', 'covid19', 'buat', 'kawan', 'jm', 'aktivitas', 'mana', 'kapan', 'jangan', 'lupa', '6m', 'yayuk', 'bersamasama', 'cegah', 'sebar', 'covid19', 'httpstcoadgecfizck'], ['joe', 'biden', 'nyata', 'positif', 'covid19lagi', 'httpstcovc6wrneqzg'], ['nyuma', 'yumuganda', 'pes', 'wintara', 'y', 'iburengerazuba', 'madame', 'uwambajemariya', 'florence', 'na', 'komite', 'nyobozi', 'rutsirodistrict', 'baganirije', 'abaturage', 'kur', 'gahunda', 'zinyuranye', 'zirimoumutekano', 'kwikingiza', 'covid19', 'musa', 'kwitezimbere', 'habitegekofran1', 'murekatetetrip1', 'rwandalocalgov', 'httpstco8tv3vvihbu'], ['nyuma', 'yiminsi', 'itatu', 'gusa', 'avuye', 'mu', 'kato', 'nyuma', 'yo', 'kwemeza', 'ko', 'yakize', 'covid19', 'muzehe', 'mususumizi', 'biden', 'yongere', 'kwandura', 'icyo', 'cyorezomu', 'gihe', 'umwuka', 'wintambara', 'ututumba', 'ku', 'nkombe', 'zuburengero', 'bwinyanja', 'pasifika', 'httpstcofrndpqgzpv'], ['ikut', 'data', 'kasus', 'covid19', 'minggu', 'terakhirhttpstco7qclubrwbr'], ['tangerang', '30', 'juli', '2022', 'rujuk', 'data', 'website', 'covid19', 'resmi', 'perintah', 'kota', 'tangerang', 'dasar', 'data', 'dinas', 'sehat', 'kota', 'tangerangselengkapnya', 'httpstcojsgxqshkrxkotatangerangupdatecoronacovid19waspadabolehpanikjangan', 'httpstcoe8alrlqdnh'], ['kendali', 'covid19', 'satlantas', 'polres', 'tanjungbalai', 'imbau', 'warga', 'kena', 'masker', 'keluar', 'rumah', 'httpstcomop4otkomx'], ['ppkm', 'akhir', 'besok', '1', 'agustus', 'begini', 'update', 'covid19', 'nasional', 'httpstcotdcj0thpcg'], ['positif', 'covid19', 'tambah', '5398', 'kasus', '13', 'tinggal', 'dunia', 'sindonews', 'bukanberitabiasa', 'httpstcofye9zplhdl'], ['agnostikid', 'orcql', 'mistycerest', 'iyaaps', 'positive', 'covid19', 'soal', 'gaguna', 'sali', 'ga', 'bakal', 'ngubah', 'apapaun'], ['asean', 'airpollution', 'trending', 'southeastasia', 'polusigedungperkantoran', 'dkijakarta', 'polusiapartemen', 'iqair', 'imf', 'bi', 'ispa', 'kanker', 'covid19', 'g20', 'dosapltupln', 'apa', 'semua', 'keburu', 'tau', 'gak', 'sih', 'keburu', 'bs', 'warga', 'mu', 'jatuh', 'sakit', 'bener2', 'gak', 'ahlak', 'y', 'httpstcogvlcyruzap'], ['ani', 'hmm', 'ye', 'covid19', 'kya', 'hide', 'amp', 'seak', 'khel', 'rha', 'potus', 'mr', 'biden', 'sathgetwellsoonsir'], ['miftahismail', 'chotti', 'bachi', 'ho', 'kia', 'ik', 'jb', 'aya', 'thaa', 'tow', 'covid19', 'aa', 'gya', 'thaa', 'ap', 'k', 'dor', 'main', 'aisa', 'kch', 'hai', 'smooth', 'period', 'of', 'time', 'milla', 'hai', 'tabaah', 'kr', 'k', 'rkh', 'diya', 'mulk', 'ko'], ['hallo', 'kawan', 'jmpatuhi', 'protokol', 'sehat', 'putus', 'sebar', 'covid19', 'buat', 'kawan', 'jm', 'aktivitas', 'mana', 'kapan', 'jangan', 'lupa', '6m', 'yayuk', 'bersamasama', 'cegah', 'sebar', 'covid19', 'httpstco1okhlh2fgf'], ['grup', 'idol', 'potensi', 'positif', 'covid19', 'maksa', 'tetap', 'syuting', 'isac', 'netizen', 'khawatir', 'idolstarathleticchampionship', 'httpstcos7nz4to4ft', 'httpstcogypqd02nhl'], ['ilmuwan', 'ungkap', 'fakta', 'baru', 'balik', 'muncul', 'hepatitis', 'misterius', 'tak', 'kait', 'covid19', 'sebab', 'httpstcoij7ymoj8gz'], ['adalah', 'lapor', 'nol', 'kasus', 'demam', 'pertama', 'kali', 'sejak', 'korut', 'pertama', 'kali', 'aku', 'covid19', 'rebak', 'sana', 'tengah', 'mei', 'lalu', 'kumparannews', 'httpstcou9tkt2xe7u'], ['i7nnewsrais', 'wa', 'marekani', 'joe', 'biden', 'apatikana', 'na', 'maambukizi', 'corona', 'covid19', 'kwa', 'mara', 'nyengine', 'tena', 'siku', 'tatu', '3', 'baada', 'kujitenga', 'akipata', 'matibabu', 'korona', 'ikulu', 'marekani', 'white', 'house', 'imesema', 'httpstcouw0wu15smv'], ['hallo', 'kawan', 'jmpatuhi', 'protokol', 'sehat', 'putus', 'sebar', 'covid19', 'buat', 'kawan', 'jm', 'aktivitas', 'mana', 'kapan', 'jangan', 'lupa', '6m', 'yayuk', 'bersamasama', 'cegah', 'sebar', 'covid19', 'httpstcon2o2xuelw0'], ['vaksin', 'covid19', 'produksi', 'astrazeneca', 'klaim', 'telah', 'dosis', 'empat', 'beri', 'tingkat', '73', 'persen', 'terima', 'vaksin', 'infeksi', 'varian', 'omicron', 'sains', 'httpstco5tvtnvk99j'], ['rfiha', 'to', 'shin', 'wai', 'haryanzu', 'ba', 'a', 'gama', 'wannan', 'wasan', 'yaranba', 'ni', 'kawai', 'covid19', 'wasan', 'yara', 'na', 'dauketamu', 'yan', 'nigeria', 'ne', 'fama', 'da', 'covid19'], ['doktertifa', 'jokowi', 'aniesbaswedan', 'ridwankamil', 'bagaimana', 'dg', 'tebang', 'pohon', 'monas', 'lalu', 'rumah', 'dp', '0', 'lantas', 'gimana', 'dg', 'okockelebihan', 'bayar', 'bagai', 'projek', 'lab', 'covid19', 'yg', 'kata', 'sdh', 'bangun'], ['mheshimiwa', 'rais', 'wa', 'melikani', 'yanduye', 'covid19', 'nyagasani', 'arinde', 'uyu', 'mukambwe', 'httpstcobgxwmlkqp3'], ['abakorerabushake', 'saving', 'group', 'yo', 'muri', 'sectorsovu', 'ngororerodistr', 'bakomeje', 'gahunda', 'yo', 'kwizigama', 'ndetse', 'banagura', 'ihene', 'yaragijwe', 'umwe', 'mu', 'banyamuryango', 'nyuma', 'yo', 'kwizigama', 'bakomereje', 'mubukangurambaga', 'bwo', 'kwirinda', 'no', 'kurwanya', 'covid19', 'kubanarichard', 'rwandayouth', 'gatjmv', 'httpstcozkqvq7jafn'], ['ri', 'tambah', '5398', 'positif', 'covid19', 'kepri', 'sumbang', '22', 'kasus', 'httpstcodbk4jtjvaz'], ['ri', 'tambah', '5398', 'positif', 'covid19', 'kepri', 'sumbang', '22', 'kasus', 'httpstcoaszwqq6wtw'], ['byblackangel', 'tegawatisp', 'gwnz0410', 'gratisterbaik', 'ptkaiindonesia', 'mpraldo', 'stopplandemit', 'vfathun', 'nichosilalah1', 'nichosilalahi', 'drtedros', 'jokowi', 'kemenkesri', 'pbidi', 'kemenhub151', 'selamat', 'pagi', 'sesuai', 'se', 'kemenhub', 'no', '72', 'tahun', '2022', 'amp', 'se', 'satgas', 'covid19', 'no', '21', 'tahun', '2022', 'laku', 'mulai', 'tanggal', '17', 'juli', 'calon', 'tumpang', 'telah', 'vaksinasi', 'dosis', 'tiga', 'booster', 'wajib', 'tunjuk', 'hasil', 'negatif', 'tes', 'rtpcrantigen', '1'], ['data', 'jummlah', 'mati', 'asia', 'akibat', 'covid19', 'hari', 'sebanyak169120963'], ['asean', 'airpollution', 'trending', 'southeastasia', 'polusigedungperkantoran', 'dkijakarta', 'polusiapartemen', 'iqair', 'imf', 'bi', 'ispa', 'kanker', 'covid19', 'g20', 'dosapltupln', 'juara', '1', 'asia', 'tenggara', 'jakarta', 'pd', 'sabtu', '3072022', '24', 'jam', 'udara', 'polusi', 'sangat', 'buruk', 'pdhal', 'hari', 'libur', 'nasional', 'ngeri', 'httpstcorzbthyr4wv'], ['mendikbudristek', 'keluar', 'surat', 'edar', 'pandu', 'selenggara', 'ajar', 'masa', 'pandemicovid19', 'httpstco2yrxo9xzlq'], ['data', 'pantau', 'peta', 'sebar', 'covid19', 'kabupaten', 'jember', 'per', 'sabtu', '30', 'juli', '2022untuk', 'update', 'informasi', 'covid19', 'jawa', 'timur', 'akses', 'link', 'ikut', 'httpstcoey2zbclefkjatimpemprov', 'kunjung', 'link', 'ikut', 'httpstcohbm4ld3tjb', 'httpstcoe9x0e29imh'], ['woooo', 'alibi', 'sedang', 'sakit', 'covid19'], ['nulphin', 'tutarejea', 'kwenye', 'kesi', 'covid19'], ['queserasera8072', 'nanmanjoi8715', 'epuliskandar', 'gangster', 'takut', 'covid19'], ['meshackluvand10', 'kodi', 'za', 'ruzuku', 'mlizochukua', 'b60', 'miaka', '15', 'ziko', 'wapi', 'hata', 'kibanda', 'cha', 'ofisi', 'hamnakodi', 'za', 'posho', 'za', 'ubunge', 'huku', 'mlikuwa', 'mkisusia', 'vikao', 'na', 'maplasta', 'mdomoni', 'ziko', 'wapiukweli', 'hamjawahi', 'kuwa', 'na', 'akil', 'zaidi', 'wivu', 'kwq', 'madem', 'wa', 'covid19'], ['menkes', 'ungkap', 'wantiwantinya', 'suatu', 'hari', 'pandemi', 'covid19', 'jadi', 'turut', 'ri', 'kini', 'serba', 'gantung', 'pasok', 'obat', 'negara', 'httpstcouqi35kjxvb'], ['tegawatisp', 'gwnz0410', 'gratisterbaik', 'ptkaiindonesia', 'mpraldo', 'stopplandemit', 'vfathun', 'byblackangel', 'nichosilalah1', 'nichosilalahi', 'drtedros', 'jokowi', 'kemenkesri', 'pbidi', 'kemenhub151', 'sesuai', 'se', 'kemenhub', 'no', '72', 'tahun', '2022', 'amp', 'se', 'satgas', 'covid19', 'no', '21', 'tahun', '2022', 'laku', 'mulai', 'tanggal', '17', 'juli', 'calon', 'tumpang', 'ka', 'jarak', 'jauh', 'telah', 'vaksin', 'dosis', '2', 'wajib', 'tunjuk', 'surat', 'terang', 'hasil', 'negatif', 'tes', 'antigenpcr', 'kak1'], ['covid19', 'kalsel', 'tambah', '120', 'kasus', 'httpstco29lyxkdza9'], ['tambah', 'kasus', 'covid19', 'nasional', 'di', 'lima', 'ribu', 'orang', 'httpstcougcomdzp96', 'httpstco1ewlklziym'], ['pandemi', 'covid19', 'sempat', 'ganggu', 'siap', 'tim', 'jelang', 'piala', 'aff', 'u16', 'httpstcojl0znfwgez']]\n"
          ]
        }
      ]
    },
    {
      "cell_type": "code",
      "source": [
        "# TfIdf\n",
        "from sklearn.feature_extraction.text import TfidfVectorizer\n",
        "\n",
        "# Menggunakan TF-IDF untuk mengubah teks menjadi vektor fitur\n",
        "vectorizer = TfidfVectorizer()\n",
        "tfIdfXs = []\n",
        "\n",
        "documents = []\n",
        "\n",
        "for s in stopword:\n",
        "  # print(s)\n",
        "  documents.append(' '.join(s))\n",
        "  # tfIdfXs.append(vectorizer.fit_transform(s))\n",
        "  # print(vectorizer.fit_transform(\"ygubv uibi iub. iu\"))\n",
        "\n",
        "resultTfIdf = vectorizer.fit_transform(documents)\n",
        "print(vectorizer.fit_transform(documents))\n",
        "\n",
        "print(tfIdfXs)"
      ],
      "metadata": {
        "colab": {
          "base_uri": "https://localhost:8080/"
        },
        "id": "eSGNVAAy2K9Y",
        "outputId": "02bb78c9-6d20-4982-bfc2-b318577fa8af"
      },
      "execution_count": 59,
      "outputs": [
        {
          "output_type": "stream",
          "name": "stdout",
          "text": [
            "  (0, 298)\t0.29848194230440306\n",
            "  (0, 756)\t0.29848194230440306\n",
            "  (0, 185)\t0.29848194230440306\n",
            "  (0, 81)\t0.29848194230440306\n",
            "  (0, 115)\t0.2738934277521835\n",
            "  (0, 158)\t0.06969138703019069\n",
            "  (0, 426)\t0.17629270517601844\n",
            "  (0, 40)\t0.2738934277521835\n",
            "  (0, 242)\t0.200881219728238\n",
            "  (0, 30)\t0.29848194230440306\n",
            "  (0, 247)\t0.29848194230440306\n",
            "  (0, 592)\t0.2738934277521835\n",
            "  (0, 825)\t0.29848194230440306\n",
            "  (0, 48)\t0.2738934277521835\n",
            "  (1, 335)\t0.23479689266173515\n",
            "  (1, 362)\t0.23479689266173515\n",
            "  (1, 661)\t0.23479689266173515\n",
            "  (1, 765)\t0.23479689266173515\n",
            "  (1, 96)\t0.20173112959612718\n",
            "  (1, 130)\t0.23479689266173515\n",
            "  (1, 563)\t0.23479689266173515\n",
            "  (1, 882)\t0.23479689266173515\n",
            "  (1, 771)\t0.23479689266173515\n",
            "  (1, 654)\t0.23479689266173515\n",
            "  (1, 344)\t0.23479689266173515\n",
            "  :\t:\n",
            "  (97, 815)\t0.378420747150422\n",
            "  (97, 418)\t0.48339807720758365\n",
            "  (97, 158)\t0.12299923647238793\n",
            "  (97, 426)\t0.3111412910021218\n",
            "  (98, 259)\t0.3725008632670681\n",
            "  (98, 330)\t0.3725008632670681\n",
            "  (98, 721)\t0.3725008632670681\n",
            "  (98, 180)\t0.3725008632670681\n",
            "  (98, 639)\t0.341814776107344\n",
            "  (98, 606)\t0.2893565636204008\n",
            "  (98, 523)\t0.341814776107344\n",
            "  (98, 815)\t0.2675844382931817\n",
            "  (98, 158)\t0.08697377680741003\n",
            "  (98, 426)\t0.2200105787263395\n",
            "  (99, 306)\t0.31955742377585916\n",
            "  (99, 875)\t0.31955742377585916\n",
            "  (99, 42)\t0.31955742377585916\n",
            "  (99, 673)\t0.31955742377585916\n",
            "  (99, 392)\t0.31955742377585916\n",
            "  (99, 854)\t0.31955742377585916\n",
            "  (99, 786)\t0.31955742377585916\n",
            "  (99, 217)\t0.31955742377585916\n",
            "  (99, 773)\t0.31955742377585916\n",
            "  (99, 646)\t0.27455508179149846\n",
            "  (99, 158)\t0.07461221917412302\n",
            "[]\n"
          ]
        }
      ]
    },
    {
      "cell_type": "code",
      "source": [
        "# LSA\n",
        "from sklearn.decomposition import TruncatedSVD\n",
        "lsa = TruncatedSVD(n_components=2)\n",
        "X_lsa = lsa.fit_transform(resultTfIdf)\n",
        "print(X_lsa)"
      ],
      "metadata": {
        "colab": {
          "base_uri": "https://localhost:8080/"
        },
        "id": "iMqTsP998L2g",
        "outputId": "251541c5-fcd9-4123-bebf-a6793c42b968"
      },
      "execution_count": 66,
      "outputs": [
        {
          "output_type": "stream",
          "name": "stdout",
          "text": [
            "[[ 0.02617673  0.00502131]\n",
            " [ 0.01342064  0.00397113]\n",
            " [ 0.02242936  0.00777809]\n",
            " [ 0.94609463 -0.16057622]\n",
            " [ 0.13458357  0.76130811]\n",
            " [ 0.13458357  0.76130811]\n",
            " [ 0.13458357  0.76130811]\n",
            " [ 0.06415857  0.0340357 ]\n",
            " [ 0.13458357  0.76130811]\n",
            " [ 0.02931147  0.01017736]\n",
            " [ 0.05200006  0.00876779]\n",
            " [ 0.16627811  0.16492212]\n",
            " [ 0.03115727  0.01222029]\n",
            " [ 0.03195177  0.00865092]\n",
            " [ 0.14309415  0.6240126 ]\n",
            " [ 0.14309415  0.62401259]\n",
            " [ 0.14309415  0.6240126 ]\n",
            " [ 0.14309415  0.6240126 ]\n",
            " [ 0.056399    0.15013446]\n",
            " [ 0.00748631  0.01174114]\n",
            " [ 0.01794243  0.09200304]\n",
            " [ 0.11123713  0.11240733]\n",
            " [ 0.00748631  0.01174114]\n",
            " [ 0.01792568  0.00708665]\n",
            " [ 0.02198219  0.0059374 ]\n",
            " [ 0.02828322  0.01411216]\n",
            " [ 0.02629401  0.01059449]\n",
            " [ 0.10137942  0.20682524]\n",
            " [ 0.01236292  0.00430821]\n",
            " [ 0.03495772  0.00707846]\n",
            " [ 0.01936371  0.00386756]\n",
            " [ 0.02135024  0.00687362]\n",
            " [ 0.94609463 -0.16057622]\n",
            " [ 0.01714141  0.00385353]\n",
            " [ 0.02103447  0.00686345]\n",
            " [ 0.02873052  0.01429142]\n",
            " [ 0.02873052  0.01429142]\n",
            " [ 0.18754625 -0.02620253]\n",
            " [ 0.18754625 -0.02620251]\n",
            " [ 0.01906979  0.00538167]\n",
            " [ 0.15327099 -0.02071444]\n",
            " [ 0.0291872   0.00939923]\n",
            " [ 0.02878144  0.00456588]\n",
            " [ 0.15361391  0.07334215]\n",
            " [ 0.02512867  0.10927769]\n",
            " [ 0.15643584  0.12099378]\n",
            " [ 0.04204812  0.01254342]\n",
            " [ 0.94609463 -0.16057622]\n",
            " [ 0.01250755  0.00640621]\n",
            " [ 0.0721421   0.14042572]\n",
            " [ 0.05466211  0.10377297]\n",
            " [ 0.07604712  0.01754746]\n",
            " [ 0.04023157  0.01485043]\n",
            " [ 0.02927643  0.00846703]\n",
            " [ 0.01724863  0.09985791]\n",
            " [ 0.18559061  0.08770737]\n",
            " [ 0.00648009  0.0017604 ]\n",
            " [ 0.04065148  0.01226382]\n",
            " [ 0.01916873  0.00388357]\n",
            " [ 0.01531967  0.00345463]\n",
            " [ 0.94609463 -0.16057622]\n",
            " [ 0.01822459  0.00788145]\n",
            " [ 0.01065431  0.00179049]\n",
            " [ 0.01171682  0.00269415]\n",
            " [ 0.0549405   0.01799492]\n",
            " [ 0.04700965 -0.00161515]\n",
            " [ 0.03340217  0.10038918]\n",
            " [ 0.02258607  0.00513302]\n",
            " [ 0.04574834  0.00557809]\n",
            " [ 0.01505847  0.00353309]\n",
            " [ 0.01518884  0.03012273]\n",
            " [ 0.01759223  0.00484659]\n",
            " [ 0.00884727  0.00187531]\n",
            " [ 0.94609463 -0.16057622]\n",
            " [ 0.02343075  0.01333301]\n",
            " [ 0.01617422  0.00415687]\n",
            " [ 0.02115678  0.00373114]\n",
            " [ 0.01459319  0.00444228]\n",
            " [ 0.94609463 -0.16057622]\n",
            " [ 0.01597206  0.00854912]\n",
            " [ 0.02144272  0.00505199]\n",
            " [ 0.01215547  0.0046932 ]\n",
            " [ 0.0163401   0.00333801]\n",
            " [ 0.0090752   0.00211243]\n",
            " [ 0.0476402   0.00850815]\n",
            " [ 0.0476402   0.00850814]\n",
            " [ 0.01635223  0.0141361 ]\n",
            " [ 0.02684874  0.00714981]\n",
            " [ 0.01663358  0.00896091]\n",
            " [ 0.00112907  0.00329341]\n",
            " [ 0.07901068 -0.00158159]\n",
            " [ 0.0270663   0.01002372]\n",
            " [ 0.02498271  0.00497663]\n",
            " [ 0.02245744  0.00499299]\n",
            " [ 0.00790624  0.0015935 ]\n",
            " [ 0.01903382  0.00591815]\n",
            " [ 0.01500656  0.01450807]\n",
            " [ 0.05200014  0.00876784]\n",
            " [ 0.03656338  0.00646404]\n",
            " [ 0.0165511   0.00366191]]\n"
          ]
        }
      ]
    },
    {
      "cell_type": "code",
      "source": [
        "from sklearn.naive_bayes import GaussianNB\n",
        "from sklearn.pipeline import make_pipeline\n",
        "from sklearn.metrics import precision_score, accuracy_score, f1_score, recall_score\n",
        "\n",
        "# Contoh data latih\n",
        "X_train_lsa = X_lsa\n",
        "# Label untuk setiap dokumen latih\n",
        "labels_train = tweets[\"Kelas\"]\n",
        "\n",
        "# Contoh data uji\n",
        "documents_test = ['Menkes mengungkapkan wanti-wantinya jika suatu hari pandemi seperti COVID-19 terjadi lagi. Menurutnya, RI kini serba bergantung pada pasokan obat negara lain. https://t.co/Uqi35KJxVB',\n",
        "                  'Ini adalah laporan nol kasus demam pertama kalinya sejak Korut pertama kali mengakui COVID-19 merebak di sana pada pertengahan Mei lalu. #kumparanNEWS https://t.co/U9tkT2xe7U']\n",
        "\n",
        "labels_test = [0.0, 2.0]\n",
        "# Pra-pemrosesan teks pada data uji\n",
        "X_test = vectorizer.fit_transform(documents_test)\n",
        "\n",
        "# Latent Semantic Analysis (LSA) pada data uji\n",
        "svd = TruncatedSVD(n_components=2)\n",
        "X_test_lsa = svd.fit_transform(X_test)\n",
        "\n",
        "# Pelatihan model Naive Bayes\n",
        "model = make_pipeline(GaussianNB())\n",
        "model.fit(X_train_lsa, labels_train)\n",
        "\n",
        "# Prediksi pada data uji\n",
        "y_pred = model.predict(X_test_lsa)\n",
        "\n",
        "# Menghitung metrik evaluasi\n",
        "precision = precision_score(labels_test, y_pred, average='weighted')\n",
        "accuracy = accuracy_score(labels_test, y_pred)\n",
        "f1 = f1_score(labels_test, y_pred, average='weighted')\n",
        "recall = recall_score(labels_test, y_pred, average='weighted')\n",
        "\n",
        "print(\"-------------------------------\")\n",
        "print(\"Presisi: {:.4f}\".format(precision))\n",
        "print(\"Akurasi: {:.4f}\".format(accuracy))\n",
        "print(\"F1-Score: {:.4f}\".format(f1))\n",
        "print(\"Recall: {:.4f}\".format(recall))\n",
        "print(\"-------------------------------\")"
      ],
      "metadata": {
        "colab": {
          "base_uri": "https://localhost:8080/"
        },
        "id": "WjAcDF5v-2Fs",
        "outputId": "ed5251ce-9a37-4ed8-a5c8-3311ac650dfc"
      },
      "execution_count": 86,
      "outputs": [
        {
          "output_type": "stream",
          "name": "stdout",
          "text": [
            "-------------------------------\n",
            "Presisi: 0.2500\n",
            "Akurasi: 0.5000\n",
            "F1-Score: 0.3333\n",
            "Recall: 0.5000\n",
            "-------------------------------\n"
          ]
        },
        {
          "output_type": "stream",
          "name": "stderr",
          "text": [
            "/usr/local/lib/python3.10/dist-packages/sklearn/metrics/_classification.py:1344: UndefinedMetricWarning: Precision is ill-defined and being set to 0.0 in labels with no predicted samples. Use `zero_division` parameter to control this behavior.\n",
            "  _warn_prf(average, modifier, msg_start, len(result))\n"
          ]
        }
      ]
    }
  ]
}